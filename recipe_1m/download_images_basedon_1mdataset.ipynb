{
 "cells": [
  {
   "cell_type": "code",
   "execution_count": 40,
   "metadata": {},
   "outputs": [],
   "source": [
    "import matplotlib.pyplot as plt\n",
    "from matplotlib.pyplot import imshow\n",
    "from IPython.display import Image, display\n",
    "\n",
    "import pandas as pd\n",
    "import numpy as np\n",
    "import json\n",
    "%matplotlib notebook\n",
    "\n",
    "from fuzzywuzzy import fuzz\n",
    "from sklearn.feature_extraction.text import CountVectorizer"
   ]
  },
  {
   "cell_type": "markdown",
   "metadata": {},
   "source": [
    "# Read ImageNet Words List"
   ]
  },
  {
   "cell_type": "code",
   "execution_count": 41,
   "metadata": {},
   "outputs": [
    {
     "data": {
      "text/html": [
       "<div>\n",
       "<style scoped>\n",
       "    .dataframe tbody tr th:only-of-type {\n",
       "        vertical-align: middle;\n",
       "    }\n",
       "\n",
       "    .dataframe tbody tr th {\n",
       "        vertical-align: top;\n",
       "    }\n",
       "\n",
       "    .dataframe thead th {\n",
       "        text-align: right;\n",
       "    }\n",
       "</style>\n",
       "<table border=\"1\" class=\"dataframe\">\n",
       "  <thead>\n",
       "    <tr style=\"text-align: right;\">\n",
       "      <th></th>\n",
       "      <th>id</th>\n",
       "      <th>words</th>\n",
       "    </tr>\n",
       "  </thead>\n",
       "  <tbody>\n",
       "    <tr>\n",
       "      <th>0</th>\n",
       "      <td>n00001740</td>\n",
       "      <td>entity</td>\n",
       "    </tr>\n",
       "    <tr>\n",
       "      <th>1</th>\n",
       "      <td>n00001930</td>\n",
       "      <td>physical entity</td>\n",
       "    </tr>\n",
       "    <tr>\n",
       "      <th>2</th>\n",
       "      <td>n00002137</td>\n",
       "      <td>abstraction, abstract entity</td>\n",
       "    </tr>\n",
       "    <tr>\n",
       "      <th>3</th>\n",
       "      <td>n00002452</td>\n",
       "      <td>thing</td>\n",
       "    </tr>\n",
       "    <tr>\n",
       "      <th>4</th>\n",
       "      <td>n00002684</td>\n",
       "      <td>object, physical object</td>\n",
       "    </tr>\n",
       "    <tr>\n",
       "      <th>5</th>\n",
       "      <td>n00003553</td>\n",
       "      <td>whole, unit</td>\n",
       "    </tr>\n",
       "    <tr>\n",
       "      <th>6</th>\n",
       "      <td>n00003993</td>\n",
       "      <td>congener</td>\n",
       "    </tr>\n",
       "    <tr>\n",
       "      <th>7</th>\n",
       "      <td>n00004258</td>\n",
       "      <td>living thing, animate thing</td>\n",
       "    </tr>\n",
       "    <tr>\n",
       "      <th>8</th>\n",
       "      <td>n00004475</td>\n",
       "      <td>organism, being</td>\n",
       "    </tr>\n",
       "    <tr>\n",
       "      <th>9</th>\n",
       "      <td>n00005787</td>\n",
       "      <td>benthos</td>\n",
       "    </tr>\n",
       "  </tbody>\n",
       "</table>\n",
       "</div>"
      ],
      "text/plain": [
       "          id                         words\n",
       "0  n00001740                        entity\n",
       "1  n00001930               physical entity\n",
       "2  n00002137  abstraction, abstract entity\n",
       "3  n00002452                         thing\n",
       "4  n00002684       object, physical object\n",
       "5  n00003553                   whole, unit\n",
       "6  n00003993                      congener\n",
       "7  n00004258   living thing, animate thing\n",
       "8  n00004475               organism, being\n",
       "9  n00005787                       benthos"
      ]
     },
     "execution_count": 41,
     "metadata": {},
     "output_type": "execute_result"
    }
   ],
   "source": [
    "df_words = pd.read_csv('/projects/kawa7978/words.txt', sep=\"\\t\", header=None)\n",
    "df_words.columns = ['id', 'words']\n",
    "df_words.head(10)"
   ]
  },
  {
   "cell_type": "markdown",
   "metadata": {},
   "source": [
    "# Read Ingredients List"
   ]
  },
  {
   "cell_type": "code",
   "execution_count": 44,
   "metadata": {},
   "outputs": [],
   "source": [
    "f = open('/projects/kawa7978/det_ingrs.json', 'r')\n",
    "ingr = json.load(f)"
   ]
  },
  {
   "cell_type": "markdown",
   "metadata": {},
   "source": [
    "An example data looks like this"
   ]
  },
  {
   "cell_type": "code",
   "execution_count": 97,
   "metadata": {},
   "outputs": [
    {
     "name": "stdout",
     "output_type": "stream",
     "text": [
      "valid\n",
      "[True, True, True, True, True, True, True, True, False, False, True, True, True, False]\n",
      "----------------------------------------------------------------------------------------------------\n",
      "id\n",
      "000018c8a5\n",
      "----------------------------------------------------------------------------------------------------\n",
      "ingredients\n",
      "[{'text': 'penne'}, {'text': 'cheese sauce'}, {'text': 'cheddar cheese'}, {'text': 'gruyere cheese'}, {'text': 'dried chipotle powder'}, {'text': 'unsalted butter'}, {'text': 'all - purpose flour'}, {'text': 'milk'}, {'text': '14 ounces semihard cheese (page 23), grated (about 3 1/2 cups)'}, {'text': '2 ounces semisoft cheese (page 23), grated (1/2 cup)'}, {'text': 'kosher salt'}, {'text': 'dried chipotle powder'}, {'text': 'garlic powder'}, {'text': '(makes about 4 cups)'}]\n",
      "----------------------------------------------------------------------------------------------------\n",
      "ingredient_ids\n",
      "[{'penne': 'n07701147'}, {'cheese sauce': 'n07836731'}, {'cheddar cheese': ''}, {'gruyere cheese': ''}, {'dried chipotle powder': ''}, {'unsalted butter': ''}, {'all - purpose flour': ''}, {'milk': 'n05399034'}, {'14 ounces semihard cheese (page 23), grated (about 3 1/2 cups)': ''}, {'2 ounces semisoft cheese (page 23), grated (1/2 cup)': ''}, {'kosher salt': ''}, {'dried chipotle powder': ''}, {'garlic powder': ''}, {'(makes about 4 cups)': ''}]\n",
      "----------------------------------------------------------------------------------------------------\n",
      "ingredient_matched_word\n",
      "[{'penne': 'penne'}, {'cheese sauce': 'cheese sauce'}, {'cheddar cheese': ''}, {'gruyere cheese': ''}, {'dried chipotle powder': ''}, {'unsalted butter': ''}, {'all - purpose flour': ''}, {'milk': 'milk'}, {'14 ounces semihard cheese (page 23), grated (about 3 1/2 cups)': ''}, {'2 ounces semisoft cheese (page 23), grated (1/2 cup)': ''}, {'kosher salt': ''}, {'dried chipotle powder': ''}, {'garlic powder': ''}, {'(makes about 4 cups)': ''}]\n",
      "----------------------------------------------------------------------------------------------------\n",
      "ingredient_similarity_score\n",
      "[{'penne': 100}, {'cheese sauce': 100}, {'cheddar cheese': -inf}, {'gruyere cheese': -inf}, {'dried chipotle powder': -inf}, {'unsalted butter': -inf}, {'all - purpose flour': -inf}, {'milk': 100}, {'14 ounces semihard cheese (page 23), grated (about 3 1/2 cups)': -inf}, {'2 ounces semisoft cheese (page 23), grated (1/2 cup)': -inf}, {'kosher salt': -inf}, {'dried chipotle powder': -inf}, {'garlic powder': -inf}, {'(makes about 4 cups)': -inf}]\n",
      "----------------------------------------------------------------------------------------------------\n"
     ]
    }
   ],
   "source": [
    "for k, v in ingr[0].items():\n",
    "    print(k)\n",
    "    print(v)\n",
    "    print('-'*100)\n"
   ]
  },
  {
   "cell_type": "markdown",
   "metadata": {},
   "source": [
    "# Strategy\n",
    "## 1. Read Ingredients List\n",
    "## 2. Loop over all ingredients\n",
    "## 3. Find each ingredient in the Words List\n",
    "## 4. If found, compute \"similarity\" and take the one that is above 90%\n",
    "\n",
    "## 5. In the original dataset, store a dictionary containing {'ingredient': False, 'ingredient': ID} "
   ]
  },
  {
   "cell_type": "markdown",
   "metadata": {},
   "source": [
    "First define a funciton that computes a similarity and output a similar word and its id within ImageNet dataset"
   ]
  },
  {
   "cell_type": "code",
   "execution_count": 83,
   "metadata": {},
   "outputs": [
    {
     "name": "stdout",
     "output_type": "stream",
     "text": [
      "tea n07933274 100\n"
     ]
    }
   ],
   "source": [
    "from fuzzywuzzy import fuzz\n",
    "\n",
    "def similar_word_and_id(df, searchword, similarity_thres=90, similarity_func=fuzz.ratio):\n",
    "    \"\"\"\n",
    "    df: pd.DataFrame\n",
    "        Requires df to have columns ['id', 'words']\n",
    "    \"\"\"\n",
    "    # returns Boolean\n",
    "    try:\n",
    "        index = df[\"words\"].str.contains(searchword, regex=False)\n",
    "    except:\n",
    "        print(searchword)\n",
    "    inds = index[index==True].index\n",
    "\n",
    "    df_tmp = df.loc[inds]\n",
    "\n",
    "    highest = -np.inf\n",
    "    ret_word = ''\n",
    "    ret_id = ''\n",
    "\n",
    "    for i, row in df_tmp.iterrows():\n",
    "        word = row['words']\n",
    "        similarity = similarity_func(searchword, word)\n",
    "        if similarity > similarity_thres:\n",
    "            if highest < similarity:\n",
    "                highest = similarity\n",
    "                ret_word = word\n",
    "                ret_id = row['id']\n",
    "\n",
    "    return ret_word, ret_id, highest\n",
    "\n",
    "\n",
    "word, ID, score = similar_word_and_id(df_words, 'tea', 10)\n",
    "print(word, ID, score)"
   ]
  },
  {
   "cell_type": "markdown",
   "metadata": {},
   "source": [
    "Now loop for all the data"
   ]
  },
  {
   "cell_type": "code",
   "execution_count": 84,
   "metadata": {},
   "outputs": [
    {
     "name": "stdout",
     "output_type": "stream",
     "text": [
      "dict_keys(['valid', 'id', 'ingredients', 'ingredient_ids', 'ingredient_matched_word', 'ingredient_similarity_score'])\n",
      "dict_values([[True, True, True, True, True, True, True, True, False, False, True, True, True, False], '000018c8a5', [{'text': 'penne'}, {'text': 'cheese sauce'}, {'text': 'cheddar cheese'}, {'text': 'gruyere cheese'}, {'text': 'dried chipotle powder'}, {'text': 'unsalted butter'}, {'text': 'all - purpose flour'}, {'text': 'milk'}, {'text': '14 ounces semihard cheese (page 23), grated (about 3 1/2 cups)'}, {'text': '2 ounces semisoft cheese (page 23), grated (1/2 cup)'}, {'text': 'kosher salt'}, {'text': 'dried chipotle powder'}, {'text': 'garlic powder'}, {'text': '(makes about 4 cups)'}], [{'penne': 'n07701147'}, {'cheese sauce': 'n07836731'}, {'cheddar cheese': ''}, {'gruyere cheese': ''}, {'dried chipotle powder': ''}, {'unsalted butter': ''}, {'all - purpose flour': ''}, {'milk': 'n05399034'}, {'14 ounces semihard cheese (page 23), grated (about 3 1/2 cups)': ''}, {'2 ounces semisoft cheese (page 23), grated (1/2 cup)': ''}, {'kosher salt': ''}, {'dried chipotle powder': ''}, {'garlic powder': ''}, {'(makes about 4 cups)': ''}], [{'penne': 'penne'}, {'cheese sauce': 'cheese sauce'}, {'cheddar cheese': ''}, {'gruyere cheese': ''}, {'dried chipotle powder': ''}, {'unsalted butter': ''}, {'all - purpose flour': ''}, {'milk': 'milk'}, {'14 ounces semihard cheese (page 23), grated (about 3 1/2 cups)': ''}, {'2 ounces semisoft cheese (page 23), grated (1/2 cup)': ''}, {'kosher salt': ''}, {'dried chipotle powder': ''}, {'garlic powder': ''}, {'(makes about 4 cups)': ''}], [{'penne': 100}, {'cheese sauce': 100}, {'cheddar cheese': -inf}, {'gruyere cheese': -inf}, {'dried chipotle powder': -inf}, {'unsalted butter': -inf}, {'all - purpose flour': -inf}, {'milk': 100}, {'14 ounces semihard cheese (page 23), grated (about 3 1/2 cups)': -inf}, {'2 ounces semisoft cheese (page 23), grated (1/2 cup)': -inf}, {'kosher salt': -inf}, {'dried chipotle powder': -inf}, {'garlic powder': -inf}, {'(makes about 4 cups)': -inf}]])\n",
      "----------------------------------------------------------------------------------------------------\n",
      "No. of Data: 1029720\n"
     ]
    }
   ],
   "source": [
    "print(ingr[0].keys())\n",
    "print(ingr[0].values())\n",
    "\n",
    "print('-'*100)\n",
    "n_data = len(ingr)\n",
    "print('No. of Data: %s'%(n_data))\n",
    "\n",
    "# Temporarily for small dataset\n",
    "n_data = int(n_data/100)\n",
    "\n",
    "# loop for all data\n",
    "for i_data in range(n_data):\n",
    "    ingr[i_data]['ingredient_ids'] = []\n",
    "    ingr[i_data]['ingredient_matched_word'] = []\n",
    "    ingr[i_data]['ingredient_similarity_score'] = []\n",
    "    n_ingredients = len(ingr[i_data]['ingredients'])\n",
    "    for i_ingr in range(n_ingredients):\n",
    "        searchword = ingr[i_data]['ingredients'][i_ingr]['text']\n",
    "        word, ID, score = similar_word_and_id(df_words, searchword, 90)\n",
    "        ingr[i_data]['ingredient_ids'].append({searchword: ID})\n",
    "        ingr[i_data]['ingredient_matched_word'].append({searchword: word})\n",
    "        ingr[i_data]['ingredient_similarity_score'].append({searchword: score})\n",
    "        "
   ]
  },
  {
   "cell_type": "code",
   "execution_count": 87,
   "metadata": {},
   "outputs": [],
   "source": [
    "with open(\"/projects/kawa7978/ingrs_with_imagenet_id.json\", \"w\") as f:\n",
    "    json.dump(ingr, f)"
   ]
  },
  {
   "cell_type": "code",
   "execution_count": 94,
   "metadata": {},
   "outputs": [
    {
     "data": {
      "text/plain": [
       "{'valid': [True,\n",
       "  True,\n",
       "  True,\n",
       "  True,\n",
       "  True,\n",
       "  True,\n",
       "  True,\n",
       "  True,\n",
       "  False,\n",
       "  False,\n",
       "  True,\n",
       "  True,\n",
       "  True,\n",
       "  False],\n",
       " 'id': '000018c8a5',\n",
       " 'ingredients': [{'text': 'penne'},\n",
       "  {'text': 'cheese sauce'},\n",
       "  {'text': 'cheddar cheese'},\n",
       "  {'text': 'gruyere cheese'},\n",
       "  {'text': 'dried chipotle powder'},\n",
       "  {'text': 'unsalted butter'},\n",
       "  {'text': 'all - purpose flour'},\n",
       "  {'text': 'milk'},\n",
       "  {'text': '14 ounces semihard cheese (page 23), grated (about 3 1/2 cups)'},\n",
       "  {'text': '2 ounces semisoft cheese (page 23), grated (1/2 cup)'},\n",
       "  {'text': 'kosher salt'},\n",
       "  {'text': 'dried chipotle powder'},\n",
       "  {'text': 'garlic powder'},\n",
       "  {'text': '(makes about 4 cups)'}],\n",
       " 'ingredient_ids': [{'penne': 'n07701147'},\n",
       "  {'cheese sauce': 'n07836731'},\n",
       "  {'cheddar cheese': ''},\n",
       "  {'gruyere cheese': ''},\n",
       "  {'dried chipotle powder': ''},\n",
       "  {'unsalted butter': ''},\n",
       "  {'all - purpose flour': ''},\n",
       "  {'milk': 'n05399034'},\n",
       "  {'14 ounces semihard cheese (page 23), grated (about 3 1/2 cups)': ''},\n",
       "  {'2 ounces semisoft cheese (page 23), grated (1/2 cup)': ''},\n",
       "  {'kosher salt': ''},\n",
       "  {'dried chipotle powder': ''},\n",
       "  {'garlic powder': ''},\n",
       "  {'(makes about 4 cups)': ''}],\n",
       " 'ingredient_matched_word': [{'penne': 'penne'},\n",
       "  {'cheese sauce': 'cheese sauce'},\n",
       "  {'cheddar cheese': ''},\n",
       "  {'gruyere cheese': ''},\n",
       "  {'dried chipotle powder': ''},\n",
       "  {'unsalted butter': ''},\n",
       "  {'all - purpose flour': ''},\n",
       "  {'milk': 'milk'},\n",
       "  {'14 ounces semihard cheese (page 23), grated (about 3 1/2 cups)': ''},\n",
       "  {'2 ounces semisoft cheese (page 23), grated (1/2 cup)': ''},\n",
       "  {'kosher salt': ''},\n",
       "  {'dried chipotle powder': ''},\n",
       "  {'garlic powder': ''},\n",
       "  {'(makes about 4 cups)': ''}],\n",
       " 'ingredient_similarity_score': [{'penne': 100},\n",
       "  {'cheese sauce': 100},\n",
       "  {'cheddar cheese': -inf},\n",
       "  {'gruyere cheese': -inf},\n",
       "  {'dried chipotle powder': -inf},\n",
       "  {'unsalted butter': -inf},\n",
       "  {'all - purpose flour': -inf},\n",
       "  {'milk': 100},\n",
       "  {'14 ounces semihard cheese (page 23), grated (about 3 1/2 cups)': -inf},\n",
       "  {'2 ounces semisoft cheese (page 23), grated (1/2 cup)': -inf},\n",
       "  {'kosher salt': -inf},\n",
       "  {'dried chipotle powder': -inf},\n",
       "  {'garlic powder': -inf},\n",
       "  {'(makes about 4 cups)': -inf}]}"
      ]
     },
     "execution_count": 94,
     "metadata": {},
     "output_type": "execute_result"
    }
   ],
   "source": [
    "ingr[0]"
   ]
  },
  {
   "cell_type": "code",
   "execution_count": null,
   "metadata": {},
   "outputs": [],
   "source": []
  },
  {
   "cell_type": "code",
   "execution_count": null,
   "metadata": {},
   "outputs": [],
   "source": []
  },
  {
   "cell_type": "code",
   "execution_count": null,
   "metadata": {},
   "outputs": [],
   "source": []
  },
  {
   "cell_type": "code",
   "execution_count": null,
   "metadata": {},
   "outputs": [],
   "source": [
    "df_urls = pd.read_csv('/projects/kawa7978/fall11_urls.txt', sep=\"\\t\", header=None, error_bad_lines=False)\n",
    "df_urls.columns = ['id', 'urls']\n",
    "df_urls.head(10)"
   ]
  }
 ],
 "metadata": {
  "kernelspec": {
   "display_name": "mycustomenv2",
   "language": "python",
   "name": "mycustomenv2"
  },
  "language_info": {
   "codemirror_mode": {
    "name": "ipython",
    "version": 3
   },
   "file_extension": ".py",
   "mimetype": "text/x-python",
   "name": "python",
   "nbconvert_exporter": "python",
   "pygments_lexer": "ipython3",
   "version": "3.6.8"
  }
 },
 "nbformat": 4,
 "nbformat_minor": 2
}
