{
 "cells": [
  {
   "cell_type": "code",
   "execution_count": 1,
   "metadata": {},
   "outputs": [],
   "source": [
    "import matplotlib.pyplot as plt\n",
    "from matplotlib.pyplot import imshow\n",
    "from IPython.display import Image, display\n",
    "\n",
    "import pandas as pd\n",
    "import numpy as np\n",
    "import json\n",
    "%matplotlib notebook"
   ]
  },
  {
   "cell_type": "markdown",
   "metadata": {},
   "source": [
    "# Load Json File"
   ]
  },
  {
   "cell_type": "code",
   "execution_count": 2,
   "metadata": {},
   "outputs": [],
   "source": [
    "f = open('/projects/kawa7978/layer1.json', 'r')\n",
    "layer1 = json.load(f)"
   ]
  },
  {
   "cell_type": "code",
   "execution_count": 3,
   "metadata": {},
   "outputs": [],
   "source": [
    "f = open('/projects/kawa7978/layer2.json', 'r')\n",
    "layer2 = json.load(f)"
   ]
  },
  {
   "cell_type": "code",
   "execution_count": 4,
   "metadata": {},
   "outputs": [],
   "source": [
    "f = open('/projects/kawa7978/det_ingrs.json', 'r')\n",
    "ingr = json.load(f)"
   ]
  },
  {
   "cell_type": "markdown",
   "metadata": {},
   "source": [
    "# Layer1\n",
    "## Structure\n",
    "Layer1 = List of layers [layer, layer, ..., layer]\n",
    "\n",
    "Layer\n",
    "```js\n",
    "{\n",
    "  id: String,  // unique 10-digit hex string\n",
    "  title: String,\n",
    "  instructions: [ { text: String } ],\n",
    "  ingredients: [ { text: String } ],\n",
    "  partition: ('train'|'test'|'val'),\n",
    "  url: String\n",
    "}\n",
    "```"
   ]
  },
  {
   "cell_type": "code",
   "execution_count": 5,
   "metadata": {},
   "outputs": [
    {
     "name": "stdout",
     "output_type": "stream",
     "text": [
      "No. of Layers: 1029720\n",
      "----------------------------------------------------------------------------------------------------\n",
      "Example: index==0\n",
      "----------------------------------------------------------------------------------------------------\n",
      "ingredients\n",
      "[{'text': '6 ounces penne'}, {'text': '2 cups Beechers Flagship Cheese Sauce (recipe follows)'}, {'text': '1 ounce Cheddar, grated (1/4 cup)'}, {'text': '1 ounce Gruyere cheese, grated (1/4 cup)'}, {'text': '1/4 to 1/2 teaspoon chipotle chili powder (see Note)'}, {'text': '1/4 cup (1/2 stick) unsalted butter'}, {'text': '1/3 cup all-purpose flour'}, {'text': '3 cups milk'}, {'text': '14 ounces semihard cheese (page 23), grated (about 3 1/2 cups)'}, {'text': '2 ounces semisoft cheese (page 23), grated (1/2 cup)'}, {'text': '1/2 teaspoon kosher salt'}, {'text': '1/4 to 1/2 teaspoon chipotle chili powder'}, {'text': '1/8 teaspoon garlic powder'}, {'text': '(makes about 4 cups)'}]\n",
      "--------------------\n",
      "url\n",
      "http://www.epicurious.com/recipes/food/views/-world-s-best-mac-and-cheese-387747\n",
      "--------------------\n",
      "partition\n",
      "train\n",
      "--------------------\n",
      "title\n",
      "Worlds Best Mac and Cheese\n",
      "--------------------\n",
      "id\n",
      "000018c8a5\n",
      "--------------------\n",
      "instructions\n",
      "[{'text': 'Preheat the oven to 350 F. Butter or oil an 8-inch baking dish.'}, {'text': 'Cook the penne 2 minutes less than package directions.'}, {'text': '(It will finish cooking in the oven.)'}, {'text': 'Rinse the pasta in cold water and set aside.'}, {'text': 'Combine the cooked pasta and the sauce in a medium bowl and mix carefully but thoroughly.'}, {'text': 'Scrape the pasta into the prepared baking dish.'}, {'text': 'Sprinkle the top with the cheeses and then the chili powder.'}, {'text': 'Bake, uncovered, for 20 minutes.'}, {'text': 'Let the mac and cheese sit for 5 minutes before serving.'}, {'text': 'Melt the butter in a heavy-bottomed saucepan over medium heat and whisk in the flour.'}, {'text': 'Continue whisking and cooking for 2 minutes.'}, {'text': 'Slowly add the milk, whisking constantly.'}, {'text': 'Cook until the sauce thickens, about 10 minutes, stirring frequently.'}, {'text': 'Remove from the heat.'}, {'text': 'Add the cheeses, salt, chili powder, and garlic powder.'}, {'text': 'Stir until the cheese is melted and all ingredients are incorporated, about 3 minutes.'}, {'text': 'Use immediately, or refrigerate for up to 3 days.'}, {'text': 'This sauce reheats nicely on the stove in a saucepan over low heat.'}, {'text': 'Stir frequently so the sauce doesnt scorch.'}, {'text': 'This recipe can be assembled before baking and frozen for up to 3 monthsjust be sure to use a freezer-to-oven pan and increase the baking time to 50 minutes.'}, {'text': 'One-half teaspoon of chipotle chili powder makes a spicy mac, so make sure your family and friends can handle it!'}, {'text': 'The proportion of pasta to cheese sauce is crucial to the success of the dish.'}, {'text': 'It will look like a lot of sauce for the pasta, but some of the liquid will be absorbed.'}]\n",
      "--------------------\n",
      "----------------------------------------------------------------------------------------------------\n"
     ]
    }
   ],
   "source": [
    "print('No. of Layers: %i'%(len(layer1)))\n",
    "print('-'*100)\n",
    "print('Example: index==0')\n",
    "print('-'*100)\n",
    "\n",
    "for k, v in layer1[0].items():\n",
    "    print(k)\n",
    "    print(v)\n",
    "    print('-'*20)\n",
    "print('-'*100)\n"
   ]
  },
  {
   "cell_type": "markdown",
   "metadata": {},
   "source": [
    "# Layer2\n",
    "## Structure\n",
    "Layer2 = List of layers [layer, layer, ..., layer]\n",
    "\n",
    "Layer\n",
    "```js\n",
    "{\n",
    "  id: String,   // refers to an id in layer 1\n",
    "  images: [ {\n",
    "    id: String, // unique 10-digit hex + .jpg\n",
    "    url: String\n",
    "  } ]\n",
    "}\n",
    "```"
   ]
  },
  {
   "cell_type": "markdown",
   "metadata": {},
   "source": [
    "## * Notice Number of lists in Layer1 (1029720) and Layer2 (402760) are different\n",
    "I guess this means that some layers in Layer1 do not have images."
   ]
  },
  {
   "cell_type": "markdown",
   "metadata": {},
   "source": [
    "# Ingredient"
   ]
  },
  {
   "cell_type": "code",
   "execution_count": 6,
   "metadata": {},
   "outputs": [
    {
     "data": {
      "text/plain": [
       "{'valid': [True,\n",
       "  True,\n",
       "  True,\n",
       "  True,\n",
       "  True,\n",
       "  True,\n",
       "  True,\n",
       "  True,\n",
       "  False,\n",
       "  False,\n",
       "  True,\n",
       "  True,\n",
       "  True,\n",
       "  False],\n",
       " 'id': '000018c8a5',\n",
       " 'ingredients': [{'text': 'penne'},\n",
       "  {'text': 'cheese sauce'},\n",
       "  {'text': 'cheddar cheese'},\n",
       "  {'text': 'gruyere cheese'},\n",
       "  {'text': 'dried chipotle powder'},\n",
       "  {'text': 'unsalted butter'},\n",
       "  {'text': 'all - purpose flour'},\n",
       "  {'text': 'milk'},\n",
       "  {'text': '14 ounces semihard cheese (page 23), grated (about 3 1/2 cups)'},\n",
       "  {'text': '2 ounces semisoft cheese (page 23), grated (1/2 cup)'},\n",
       "  {'text': 'kosher salt'},\n",
       "  {'text': 'dried chipotle powder'},\n",
       "  {'text': 'garlic powder'},\n",
       "  {'text': '(makes about 4 cups)'}]}"
      ]
     },
     "execution_count": 6,
     "metadata": {},
     "output_type": "execute_result"
    }
   ],
   "source": [
    "ingr[0]"
   ]
  },
  {
   "cell_type": "code",
   "execution_count": 7,
   "metadata": {},
   "outputs": [
    {
     "data": {
      "text/plain": [
       "{'valid': [True, True, True, True, True, True, True, True, True],\n",
       " 'id': '000033e39b',\n",
       " 'ingredients': [{'text': 'elbow macaroni'},\n",
       "  {'text': 'American cheese'},\n",
       "  {'text': 'celery'},\n",
       "  {'text': 'green peppers'},\n",
       "  {'text': 'pimentos'},\n",
       "  {'text': 'mayonnaise'},\n",
       "  {'text': 'vinegar'},\n",
       "  {'text': 'salt'},\n",
       "  {'text': 'dry dill weed'}]}"
      ]
     },
     "execution_count": 7,
     "metadata": {},
     "output_type": "execute_result"
    }
   ],
   "source": [
    "ingr[1]"
   ]
  },
  {
   "cell_type": "markdown",
   "metadata": {},
   "source": [
    "# Now let's look at the Layer1 and Layer2 with the same id (==00003a70b1)"
   ]
  },
  {
   "cell_type": "code",
   "execution_count": 8,
   "metadata": {},
   "outputs": [
    {
     "name": "stdout",
     "output_type": "stream",
     "text": [
      "No. of Layers: 402760\n",
      "----------------------------------------------------------------------------------------------------\n",
      "Example: index==0\n",
      "----------------------------------------------------------------------------------------------------\n",
      "id\n",
      "00003a70b1\n",
      "--------------------\n",
      "images\n",
      "[{'id': '3e233001e2.jpg', 'url': 'http://img.sndimg.com/food/image/upload/w_512,h_512,c_fit,fl_progressive,q_95/v1/img/recipes/47/91/49/picaYYmb9.jpg'}, {'id': '7f749987f9.jpg', 'url': 'http://img.sndimg.com/food/image/upload/w_512,h_512,c_fit,fl_progressive,q_95/v1/img/recipes/47/91/49/picpy37SW.jpg'}, {'id': 'aaf6b2dcd3.jpg', 'url': 'http://img.sndimg.com/food/image/upload/w_512,h_512,c_fit,fl_progressive,q_95/v1/img/recipes/47/91/49/picX9CNE2.jpg'}]\n",
      "--------------------\n",
      "----------------------------------------------------------------------------------------------------\n"
     ]
    }
   ],
   "source": [
    "print('No. of Layers: %i'%(len(layer2)))\n",
    "print('-'*100)\n",
    "print('Example: index==0')\n",
    "print('-'*100)\n",
    "\n",
    "for k, v in layer2[0].items():\n",
    "    print(k)\n",
    "    print(v)\n",
    "    print('-'*20)\n",
    "print('-'*100)"
   ]
  },
  {
   "cell_type": "code",
   "execution_count": 9,
   "metadata": {},
   "outputs": [
    {
     "name": "stdout",
     "output_type": "stream",
     "text": [
      "ingredients\n",
      "[{'text': '2 12 cups milk'}, {'text': '1 12 cups water'}, {'text': '14 cup butter'}, {'text': 'mashed potatoes, 1 box, homestyle'}, {'text': '1 (8 ounce) can whole kernel corn (drained)'}, {'text': '1 cup cheddar cheese'}, {'text': '1 cup French-fried onions'}]\n",
      "--------------------\n",
      "url\n",
      "http://www.food.com/recipe/crunchy-onion-potato-bake-479149\n",
      "--------------------\n",
      "partition\n",
      "test\n",
      "--------------------\n",
      "title\n",
      "Crunchy Onion Potato Bake\n",
      "--------------------\n",
      "id\n",
      "00003a70b1\n",
      "--------------------\n",
      "instructions\n",
      "[{'text': 'Preheat oven to 350 degrees Fahrenheit.'}, {'text': 'Spray pan with non stick cooking spray.'}, {'text': 'Heat milk, water and butter to boiling; stir in contents of both pouches of potatoes; let stand one minute.'}, {'text': 'Stir in corn.'}, {'text': 'Spoon half the potato mixture in pan.'}, {'text': 'Sprinkle half each of cheese and onions; top with remaining potatoes.'}, {'text': 'Sprinkle with remaining cheese and onions.'}, {'text': 'Bake 10 to 15 minutes until cheese is melted.'}, {'text': 'Enjoy !'}]\n",
      "--------------------\n"
     ]
    }
   ],
   "source": [
    "for layer in layer1:\n",
    "    if layer['id']=='00003a70b1':\n",
    "        for k, v in layer.items():\n",
    "            print(k)\n",
    "            print(v)\n",
    "            print('-'*20)"
   ]
  },
  {
   "cell_type": "markdown",
   "metadata": {},
   "source": [
    "# Let's load images (for id==00003a70b1)\n",
    "These are images from 1 menu (id=00003a70b1)"
   ]
  },
  {
   "cell_type": "code",
   "execution_count": 10,
   "metadata": {},
   "outputs": [
    {
     "name": "stdout",
     "output_type": "stream",
     "text": [
      "3e233001e2.jpg http://img.sndimg.com/food/image/upload/w_512,h_512,c_fit,fl_progressive,q_95/v1/img/recipes/47/91/49/picaYYmb9.jpg\n"
     ]
    },
    {
     "data": {
      "text/html": [
       "<img src=\"http://img.sndimg.com/food/image/upload/w_512,h_512,c_fit,fl_progressive,q_95/v1/img/recipes/47/91/49/picaYYmb9.jpg\"/>"
      ],
      "text/plain": [
       "<IPython.core.display.Image object>"
      ]
     },
     "metadata": {},
     "output_type": "display_data"
    },
    {
     "name": "stdout",
     "output_type": "stream",
     "text": [
      "7f749987f9.jpg http://img.sndimg.com/food/image/upload/w_512,h_512,c_fit,fl_progressive,q_95/v1/img/recipes/47/91/49/picpy37SW.jpg\n"
     ]
    },
    {
     "data": {
      "text/html": [
       "<img src=\"http://img.sndimg.com/food/image/upload/w_512,h_512,c_fit,fl_progressive,q_95/v1/img/recipes/47/91/49/picpy37SW.jpg\"/>"
      ],
      "text/plain": [
       "<IPython.core.display.Image object>"
      ]
     },
     "metadata": {},
     "output_type": "display_data"
    },
    {
     "name": "stdout",
     "output_type": "stream",
     "text": [
      "aaf6b2dcd3.jpg http://img.sndimg.com/food/image/upload/w_512,h_512,c_fit,fl_progressive,q_95/v1/img/recipes/47/91/49/picX9CNE2.jpg\n"
     ]
    },
    {
     "data": {
      "text/html": [
       "<img src=\"http://img.sndimg.com/food/image/upload/w_512,h_512,c_fit,fl_progressive,q_95/v1/img/recipes/47/91/49/picX9CNE2.jpg\"/>"
      ],
      "text/plain": [
       "<IPython.core.display.Image object>"
      ]
     },
     "metadata": {},
     "output_type": "display_data"
    }
   ],
   "source": [
    "for l2 in layer2:\n",
    "    if l2['id']=='00003a70b1':\n",
    "        for image in l2['images']:\n",
    "            print(image['id'], image['url'])\n",
    "            img = Image(url=image['url']) \n",
    "            display(img)"
   ]
  },
  {
   "cell_type": "markdown",
   "metadata": {},
   "source": [
    "# Dataset Stats"
   ]
  },
  {
   "cell_type": "code",
   "execution_count": 11,
   "metadata": {},
   "outputs": [],
   "source": [
    "df1 = pd.read_json('/projects/kawa7978/layer1.json')\n",
    "df1.rename(columns={'id':'recipe_id'}, inplace=True)"
   ]
  },
  {
   "cell_type": "code",
   "execution_count": 12,
   "metadata": {},
   "outputs": [],
   "source": [
    "df2 = pd.read_json('/projects/kawa7978/layer2.json')\n",
    "df2.rename(columns={'id':'recipe_id'}, inplace=True)"
   ]
  },
  {
   "cell_type": "code",
   "execution_count": 13,
   "metadata": {},
   "outputs": [],
   "source": [
    "df3 = pd.read_json('/projects/kawa7978/det_ingrs.json')\n",
    "df3.rename(columns={'id':'recipe_id'}, inplace=True)"
   ]
  },
  {
   "cell_type": "code",
   "execution_count": 14,
   "metadata": {},
   "outputs": [
    {
     "data": {
      "text/html": [
       "<div>\n",
       "<style scoped>\n",
       "    .dataframe tbody tr th:only-of-type {\n",
       "        vertical-align: middle;\n",
       "    }\n",
       "\n",
       "    .dataframe tbody tr th {\n",
       "        vertical-align: top;\n",
       "    }\n",
       "\n",
       "    .dataframe thead th {\n",
       "        text-align: right;\n",
       "    }\n",
       "</style>\n",
       "<table border=\"1\" class=\"dataframe\">\n",
       "  <thead>\n",
       "    <tr style=\"text-align: right;\">\n",
       "      <th></th>\n",
       "      <th>ingredients</th>\n",
       "      <th>url</th>\n",
       "      <th>partition</th>\n",
       "      <th>title</th>\n",
       "      <th>recipe_id</th>\n",
       "      <th>instructions</th>\n",
       "    </tr>\n",
       "  </thead>\n",
       "  <tbody>\n",
       "    <tr>\n",
       "      <th>0</th>\n",
       "      <td>[{'text': '6 ounces penne'}, {'text': '2 cups ...</td>\n",
       "      <td>http://www.epicurious.com/recipes/food/views/-...</td>\n",
       "      <td>train</td>\n",
       "      <td>Worlds Best Mac and Cheese</td>\n",
       "      <td>000018c8a5</td>\n",
       "      <td>[{'text': 'Preheat the oven to 350 F. Butter o...</td>\n",
       "    </tr>\n",
       "    <tr>\n",
       "      <th>1</th>\n",
       "      <td>[{'text': '1 c. elbow macaroni'}, {'text': '1 ...</td>\n",
       "      <td>http://cookeatshare.com/recipes/dilly-macaroni...</td>\n",
       "      <td>train</td>\n",
       "      <td>Dilly Macaroni Salad Recipe</td>\n",
       "      <td>000033e39b</td>\n",
       "      <td>[{'text': 'Cook macaroni according to package ...</td>\n",
       "    </tr>\n",
       "    <tr>\n",
       "      <th>2</th>\n",
       "      <td>[{'text': '8 tomatoes, quartered'}, {'text': '...</td>\n",
       "      <td>http://www.foodnetwork.com/recipes/gazpacho1.html</td>\n",
       "      <td>train</td>\n",
       "      <td>Gazpacho</td>\n",
       "      <td>000035f7ed</td>\n",
       "      <td>[{'text': 'Add the tomatoes to a food processo...</td>\n",
       "    </tr>\n",
       "    <tr>\n",
       "      <th>3</th>\n",
       "      <td>[{'text': '2 12 cups milk'}, {'text': '1 12 cu...</td>\n",
       "      <td>http://www.food.com/recipe/crunchy-onion-potat...</td>\n",
       "      <td>test</td>\n",
       "      <td>Crunchy Onion Potato Bake</td>\n",
       "      <td>00003a70b1</td>\n",
       "      <td>[{'text': 'Preheat oven to 350 degrees Fahrenh...</td>\n",
       "    </tr>\n",
       "    <tr>\n",
       "      <th>4</th>\n",
       "      <td>[{'text': '1 (3 ounce) package watermelon gela...</td>\n",
       "      <td>http://www.food.com/recipe/cool-n-easy-creamy-...</td>\n",
       "      <td>train</td>\n",
       "      <td>Cool 'n Easy Creamy Watermelon Pie</td>\n",
       "      <td>00004320bb</td>\n",
       "      <td>[{'text': 'Dissolve Jello in boiling water.'},...</td>\n",
       "    </tr>\n",
       "  </tbody>\n",
       "</table>\n",
       "</div>"
      ],
      "text/plain": [
       "                                         ingredients  \\\n",
       "0  [{'text': '6 ounces penne'}, {'text': '2 cups ...   \n",
       "1  [{'text': '1 c. elbow macaroni'}, {'text': '1 ...   \n",
       "2  [{'text': '8 tomatoes, quartered'}, {'text': '...   \n",
       "3  [{'text': '2 12 cups milk'}, {'text': '1 12 cu...   \n",
       "4  [{'text': '1 (3 ounce) package watermelon gela...   \n",
       "\n",
       "                                                 url partition  \\\n",
       "0  http://www.epicurious.com/recipes/food/views/-...     train   \n",
       "1  http://cookeatshare.com/recipes/dilly-macaroni...     train   \n",
       "2  http://www.foodnetwork.com/recipes/gazpacho1.html     train   \n",
       "3  http://www.food.com/recipe/crunchy-onion-potat...      test   \n",
       "4  http://www.food.com/recipe/cool-n-easy-creamy-...     train   \n",
       "\n",
       "                                title   recipe_id  \\\n",
       "0          Worlds Best Mac and Cheese  000018c8a5   \n",
       "1         Dilly Macaroni Salad Recipe  000033e39b   \n",
       "2                            Gazpacho  000035f7ed   \n",
       "3           Crunchy Onion Potato Bake  00003a70b1   \n",
       "4  Cool 'n Easy Creamy Watermelon Pie  00004320bb   \n",
       "\n",
       "                                        instructions  \n",
       "0  [{'text': 'Preheat the oven to 350 F. Butter o...  \n",
       "1  [{'text': 'Cook macaroni according to package ...  \n",
       "2  [{'text': 'Add the tomatoes to a food processo...  \n",
       "3  [{'text': 'Preheat oven to 350 degrees Fahrenh...  \n",
       "4  [{'text': 'Dissolve Jello in boiling water.'},...  "
      ]
     },
     "execution_count": 14,
     "metadata": {},
     "output_type": "execute_result"
    }
   ],
   "source": [
    "df1.head()"
   ]
  },
  {
   "cell_type": "code",
   "execution_count": 15,
   "metadata": {},
   "outputs": [
    {
     "data": {
      "text/html": [
       "<div>\n",
       "<style scoped>\n",
       "    .dataframe tbody tr th:only-of-type {\n",
       "        vertical-align: middle;\n",
       "    }\n",
       "\n",
       "    .dataframe tbody tr th {\n",
       "        vertical-align: top;\n",
       "    }\n",
       "\n",
       "    .dataframe thead th {\n",
       "        text-align: right;\n",
       "    }\n",
       "</style>\n",
       "<table border=\"1\" class=\"dataframe\">\n",
       "  <thead>\n",
       "    <tr style=\"text-align: right;\">\n",
       "      <th></th>\n",
       "      <th>recipe_id</th>\n",
       "      <th>images</th>\n",
       "    </tr>\n",
       "  </thead>\n",
       "  <tbody>\n",
       "    <tr>\n",
       "      <th>0</th>\n",
       "      <td>00003a70b1</td>\n",
       "      <td>[{'id': '3e233001e2.jpg', 'url': 'http://img.s...</td>\n",
       "    </tr>\n",
       "    <tr>\n",
       "      <th>1</th>\n",
       "      <td>000075604a</td>\n",
       "      <td>[{'id': '6bdca6e490.jpg', 'url': 'https://img-...</td>\n",
       "    </tr>\n",
       "    <tr>\n",
       "      <th>2</th>\n",
       "      <td>00007bfd16</td>\n",
       "      <td>[{'id': '6409eab844.jpg', 'url': 'http://img.s...</td>\n",
       "    </tr>\n",
       "    <tr>\n",
       "      <th>3</th>\n",
       "      <td>000095fc1d</td>\n",
       "      <td>[{'id': 'a1374cdd98.jpg', 'url': 'http://tasty...</td>\n",
       "    </tr>\n",
       "    <tr>\n",
       "      <th>4</th>\n",
       "      <td>0000b1e2b5</td>\n",
       "      <td>[{'id': 'cb1a684683.jpg', 'url': 'http://asset...</td>\n",
       "    </tr>\n",
       "  </tbody>\n",
       "</table>\n",
       "</div>"
      ],
      "text/plain": [
       "    recipe_id                                             images\n",
       "0  00003a70b1  [{'id': '3e233001e2.jpg', 'url': 'http://img.s...\n",
       "1  000075604a  [{'id': '6bdca6e490.jpg', 'url': 'https://img-...\n",
       "2  00007bfd16  [{'id': '6409eab844.jpg', 'url': 'http://img.s...\n",
       "3  000095fc1d  [{'id': 'a1374cdd98.jpg', 'url': 'http://tasty...\n",
       "4  0000b1e2b5  [{'id': 'cb1a684683.jpg', 'url': 'http://asset..."
      ]
     },
     "execution_count": 15,
     "metadata": {},
     "output_type": "execute_result"
    }
   ],
   "source": [
    "df2.head()"
   ]
  },
  {
   "cell_type": "code",
   "execution_count": 16,
   "metadata": {},
   "outputs": [
    {
     "data": {
      "text/html": [
       "<div>\n",
       "<style scoped>\n",
       "    .dataframe tbody tr th:only-of-type {\n",
       "        vertical-align: middle;\n",
       "    }\n",
       "\n",
       "    .dataframe tbody tr th {\n",
       "        vertical-align: top;\n",
       "    }\n",
       "\n",
       "    .dataframe thead th {\n",
       "        text-align: right;\n",
       "    }\n",
       "</style>\n",
       "<table border=\"1\" class=\"dataframe\">\n",
       "  <thead>\n",
       "    <tr style=\"text-align: right;\">\n",
       "      <th></th>\n",
       "      <th>valid</th>\n",
       "      <th>recipe_id</th>\n",
       "      <th>ingredients</th>\n",
       "    </tr>\n",
       "  </thead>\n",
       "  <tbody>\n",
       "    <tr>\n",
       "      <th>0</th>\n",
       "      <td>[True, True, True, True, True, True, True, Tru...</td>\n",
       "      <td>000018c8a5</td>\n",
       "      <td>[{'text': 'penne'}, {'text': 'cheese sauce'}, ...</td>\n",
       "    </tr>\n",
       "    <tr>\n",
       "      <th>1</th>\n",
       "      <td>[True, True, True, True, True, True, True, Tru...</td>\n",
       "      <td>000033e39b</td>\n",
       "      <td>[{'text': 'elbow macaroni'}, {'text': 'America...</td>\n",
       "    </tr>\n",
       "    <tr>\n",
       "      <th>2</th>\n",
       "      <td>[True, True, True, True, True, True, True, Tru...</td>\n",
       "      <td>000035f7ed</td>\n",
       "      <td>[{'text': 'tomatoes'}, {'text': 'kosher salt'}...</td>\n",
       "    </tr>\n",
       "    <tr>\n",
       "      <th>3</th>\n",
       "      <td>[True, True, True, True, True, True, True]</td>\n",
       "      <td>00003a70b1</td>\n",
       "      <td>[{'text': 'milk'}, {'text': 'water'}, {'text':...</td>\n",
       "    </tr>\n",
       "    <tr>\n",
       "      <th>4</th>\n",
       "      <td>[True, True, True, True, True]</td>\n",
       "      <td>00004320bb</td>\n",
       "      <td>[{'text': 'watermelon gelatin'}, {'text': 'boi...</td>\n",
       "    </tr>\n",
       "  </tbody>\n",
       "</table>\n",
       "</div>"
      ],
      "text/plain": [
       "                                               valid   recipe_id  \\\n",
       "0  [True, True, True, True, True, True, True, Tru...  000018c8a5   \n",
       "1  [True, True, True, True, True, True, True, Tru...  000033e39b   \n",
       "2  [True, True, True, True, True, True, True, Tru...  000035f7ed   \n",
       "3         [True, True, True, True, True, True, True]  00003a70b1   \n",
       "4                     [True, True, True, True, True]  00004320bb   \n",
       "\n",
       "                                         ingredients  \n",
       "0  [{'text': 'penne'}, {'text': 'cheese sauce'}, ...  \n",
       "1  [{'text': 'elbow macaroni'}, {'text': 'America...  \n",
       "2  [{'text': 'tomatoes'}, {'text': 'kosher salt'}...  \n",
       "3  [{'text': 'milk'}, {'text': 'water'}, {'text':...  \n",
       "4  [{'text': 'watermelon gelatin'}, {'text': 'boi...  "
      ]
     },
     "execution_count": 16,
     "metadata": {},
     "output_type": "execute_result"
    }
   ],
   "source": [
    "df3.head()"
   ]
  },
  {
   "cell_type": "markdown",
   "metadata": {},
   "source": [
    "## Train/Val/Test"
   ]
  },
  {
   "cell_type": "code",
   "execution_count": 17,
   "metadata": {},
   "outputs": [
    {
     "data": {
      "text/plain": [
       "train    720639\n",
       "val      155036\n",
       "test     154045\n",
       "Name: partition, dtype: int64"
      ]
     },
     "execution_count": 17,
     "metadata": {},
     "output_type": "execute_result"
    }
   ],
   "source": [
    "dataset_sizes = df1.partition.value_counts()\n",
    "dataset_sizes"
   ]
  },
  {
   "cell_type": "code",
   "execution_count": 18,
   "metadata": {},
   "outputs": [
    {
     "data": {
      "text/plain": [
       "train    0.699840\n",
       "val      0.150561\n",
       "test     0.149599\n",
       "Name: partition, dtype: float64"
      ]
     },
     "execution_count": 18,
     "metadata": {},
     "output_type": "execute_result"
    }
   ],
   "source": [
    "dataset_sizes/dataset_sizes.sum()"
   ]
  },
  {
   "cell_type": "markdown",
   "metadata": {},
   "source": [
    "# Now let's just retrieve 5 or 10 % of the dataset"
   ]
  },
  {
   "cell_type": "markdown",
   "metadata": {},
   "source": [
    "## set number of dataset"
   ]
  },
  {
   "cell_type": "code",
   "execution_count": 19,
   "metadata": {},
   "outputs": [
    {
     "name": "stdout",
     "output_type": "stream",
     "text": [
      "1% Dataset size\n",
      "7206 1550 1540\n",
      "Total: 10296\n"
     ]
    }
   ],
   "source": [
    "percent = 0.01 # start with 1 %\n",
    "\n",
    "num_train = dataset_sizes.train # plug above result here\n",
    "num_val = dataset_sizes.val\n",
    "num_test = dataset_sizes.test\n",
    "\n",
    "exp_num_train = int(percent*num_train) # Export number of train dataset\n",
    "exp_num_val = int(percent*num_val)\n",
    "exp_num_test = int(percent*num_test)\n",
    "\n",
    "print('1% Dataset size')\n",
    "print(exp_num_train, exp_num_val, exp_num_test)\n",
    "print('Total: %i'%(exp_num_train + exp_num_val + exp_num_test))"
   ]
  },
  {
   "cell_type": "markdown",
   "metadata": {},
   "source": [
    "## get index from the original Layer1 and create new export layer 1 exp_df1"
   ]
  },
  {
   "cell_type": "code",
   "execution_count": 20,
   "metadata": {},
   "outputs": [
    {
     "data": {
      "text/html": [
       "<div>\n",
       "<style scoped>\n",
       "    .dataframe tbody tr th:only-of-type {\n",
       "        vertical-align: middle;\n",
       "    }\n",
       "\n",
       "    .dataframe tbody tr th {\n",
       "        vertical-align: top;\n",
       "    }\n",
       "\n",
       "    .dataframe thead th {\n",
       "        text-align: right;\n",
       "    }\n",
       "</style>\n",
       "<table border=\"1\" class=\"dataframe\">\n",
       "  <thead>\n",
       "    <tr style=\"text-align: right;\">\n",
       "      <th></th>\n",
       "      <th>ingredients</th>\n",
       "      <th>url</th>\n",
       "      <th>partition</th>\n",
       "      <th>title</th>\n",
       "      <th>recipe_id</th>\n",
       "      <th>instructions</th>\n",
       "    </tr>\n",
       "  </thead>\n",
       "  <tbody>\n",
       "    <tr>\n",
       "      <th>84120</th>\n",
       "      <td>[{'text': '3 tablespoons flour'}, {'text': '1 ...</td>\n",
       "      <td>http://www.food.com/recipe/old-fashioned-lemon...</td>\n",
       "      <td>train</td>\n",
       "      <td>Old-Fashioned Lemon Pie</td>\n",
       "      <td>14dd4ab991</td>\n",
       "      <td>[{'text': 'Preheat oven to 450F.'}, {'text': '...</td>\n",
       "    </tr>\n",
       "    <tr>\n",
       "      <th>234556</th>\n",
       "      <td>[{'text': '4 boneless skinless chicken breasts...</td>\n",
       "      <td>http://www.food.com/recipe/broccoli-cheese-chi...</td>\n",
       "      <td>train</td>\n",
       "      <td>Broccoli Cheese Chicken</td>\n",
       "      <td>3a45bbac33</td>\n",
       "      <td>[{'text': 'Begin cooking rice according to pac...</td>\n",
       "    </tr>\n",
       "    <tr>\n",
       "      <th>94411</th>\n",
       "      <td>[{'text': '3 cups oats, toasted (I use the qui...</td>\n",
       "      <td>http://www.food.com/recipe/crunchy-granola-bar...</td>\n",
       "      <td>train</td>\n",
       "      <td>Crunchy Granola Bars</td>\n",
       "      <td>1766e23ed7</td>\n",
       "      <td>[{'text': 'To toast oats spread them on an ung...</td>\n",
       "    </tr>\n",
       "    <tr>\n",
       "      <th>746197</th>\n",
       "      <td>[{'text': '5 ounces broccoli, cut into small p...</td>\n",
       "      <td>http://www.food.com/recipe/tortellini-pesto-an...</td>\n",
       "      <td>train</td>\n",
       "      <td>Tortellini, Pesto and Broccoli Salad</td>\n",
       "      <td>b97c71ec9f</td>\n",
       "      <td>[{'text': 'Bringa large pan of water to the bo...</td>\n",
       "    </tr>\n",
       "    <tr>\n",
       "      <th>977611</th>\n",
       "      <td>[{'text': '1 12 cups rolled oats, not the quic...</td>\n",
       "      <td>http://www.food.com/recipe/autumn-celebration-...</td>\n",
       "      <td>train</td>\n",
       "      <td>Autumn Celebration Baked Oatmeal</td>\n",
       "      <td>f2f08ff936</td>\n",
       "      <td>[{'text': 'Preheat oven to 350 degrees butter ...</td>\n",
       "    </tr>\n",
       "  </tbody>\n",
       "</table>\n",
       "</div>"
      ],
      "text/plain": [
       "                                              ingredients  \\\n",
       "84120   [{'text': '3 tablespoons flour'}, {'text': '1 ...   \n",
       "234556  [{'text': '4 boneless skinless chicken breasts...   \n",
       "94411   [{'text': '3 cups oats, toasted (I use the qui...   \n",
       "746197  [{'text': '5 ounces broccoli, cut into small p...   \n",
       "977611  [{'text': '1 12 cups rolled oats, not the quic...   \n",
       "\n",
       "                                                      url partition  \\\n",
       "84120   http://www.food.com/recipe/old-fashioned-lemon...     train   \n",
       "234556  http://www.food.com/recipe/broccoli-cheese-chi...     train   \n",
       "94411   http://www.food.com/recipe/crunchy-granola-bar...     train   \n",
       "746197  http://www.food.com/recipe/tortellini-pesto-an...     train   \n",
       "977611  http://www.food.com/recipe/autumn-celebration-...     train   \n",
       "\n",
       "                                       title   recipe_id  \\\n",
       "84120                Old-Fashioned Lemon Pie  14dd4ab991   \n",
       "234556               Broccoli Cheese Chicken  3a45bbac33   \n",
       "94411                   Crunchy Granola Bars  1766e23ed7   \n",
       "746197  Tortellini, Pesto and Broccoli Salad  b97c71ec9f   \n",
       "977611      Autumn Celebration Baked Oatmeal  f2f08ff936   \n",
       "\n",
       "                                             instructions  \n",
       "84120   [{'text': 'Preheat oven to 450F.'}, {'text': '...  \n",
       "234556  [{'text': 'Begin cooking rice according to pac...  \n",
       "94411   [{'text': 'To toast oats spread them on an ung...  \n",
       "746197  [{'text': 'Bringa large pan of water to the bo...  \n",
       "977611  [{'text': 'Preheat oven to 350 degrees butter ...  "
      ]
     },
     "execution_count": 20,
     "metadata": {},
     "output_type": "execute_result"
    }
   ],
   "source": [
    "exp_df1 = pd.concat([\n",
    "    df1[df1.partition=='train'].sample(exp_num_train),\n",
    "    df1[df1.partition=='val'].sample(exp_num_val),\n",
    "    df1[df1.partition=='test'].sample(exp_num_test)\n",
    "])\n",
    "exp_df1.head()"
   ]
  },
  {
   "cell_type": "code",
   "execution_count": 21,
   "metadata": {},
   "outputs": [
    {
     "data": {
      "text/html": [
       "<div>\n",
       "<style scoped>\n",
       "    .dataframe tbody tr th:only-of-type {\n",
       "        vertical-align: middle;\n",
       "    }\n",
       "\n",
       "    .dataframe tbody tr th {\n",
       "        vertical-align: top;\n",
       "    }\n",
       "\n",
       "    .dataframe thead th {\n",
       "        text-align: right;\n",
       "    }\n",
       "</style>\n",
       "<table border=\"1\" class=\"dataframe\">\n",
       "  <thead>\n",
       "    <tr style=\"text-align: right;\">\n",
       "      <th></th>\n",
       "      <th>ingredients</th>\n",
       "      <th>url</th>\n",
       "      <th>partition</th>\n",
       "      <th>title</th>\n",
       "      <th>recipe_id</th>\n",
       "      <th>instructions</th>\n",
       "    </tr>\n",
       "  </thead>\n",
       "  <tbody>\n",
       "    <tr>\n",
       "      <th>count</th>\n",
       "      <td>10296</td>\n",
       "      <td>10296</td>\n",
       "      <td>10296</td>\n",
       "      <td>10296</td>\n",
       "      <td>10296</td>\n",
       "      <td>10296</td>\n",
       "    </tr>\n",
       "    <tr>\n",
       "      <th>unique</th>\n",
       "      <td>10296</td>\n",
       "      <td>10295</td>\n",
       "      <td>3</td>\n",
       "      <td>10150</td>\n",
       "      <td>10296</td>\n",
       "      <td>10288</td>\n",
       "    </tr>\n",
       "    <tr>\n",
       "      <th>top</th>\n",
       "      <td>[{'text': '23 cup white rice'}, {'text': '4 cu...</td>\n",
       "      <td>http://www.kraftrecipes.com/recipes/taco-pizza...</td>\n",
       "      <td>train</td>\n",
       "      <td>Sweet Potato Casserole</td>\n",
       "      <td>6999a97569</td>\n",
       "      <td>[{'text': 'Put ingredients into bread machine ...</td>\n",
       "    </tr>\n",
       "    <tr>\n",
       "      <th>freq</th>\n",
       "      <td>1</td>\n",
       "      <td>2</td>\n",
       "      <td>7206</td>\n",
       "      <td>4</td>\n",
       "      <td>1</td>\n",
       "      <td>3</td>\n",
       "    </tr>\n",
       "  </tbody>\n",
       "</table>\n",
       "</div>"
      ],
      "text/plain": [
       "                                              ingredients  \\\n",
       "count                                               10296   \n",
       "unique                                              10296   \n",
       "top     [{'text': '23 cup white rice'}, {'text': '4 cu...   \n",
       "freq                                                    1   \n",
       "\n",
       "                                                      url partition  \\\n",
       "count                                               10296     10296   \n",
       "unique                                              10295         3   \n",
       "top     http://www.kraftrecipes.com/recipes/taco-pizza...     train   \n",
       "freq                                                    2      7206   \n",
       "\n",
       "                         title   recipe_id  \\\n",
       "count                    10296       10296   \n",
       "unique                   10150       10296   \n",
       "top     Sweet Potato Casserole  6999a97569   \n",
       "freq                         4           1   \n",
       "\n",
       "                                             instructions  \n",
       "count                                               10296  \n",
       "unique                                              10288  \n",
       "top     [{'text': 'Put ingredients into bread machine ...  \n",
       "freq                                                    3  "
      ]
     },
     "execution_count": 21,
     "metadata": {},
     "output_type": "execute_result"
    }
   ],
   "source": [
    "exp_df1.describe()"
   ]
  },
  {
   "cell_type": "markdown",
   "metadata": {},
   "source": [
    "## From exp_df1, get exp_df2"
   ]
  },
  {
   "cell_type": "code",
   "execution_count": 22,
   "metadata": {},
   "outputs": [
    {
     "data": {
      "text/html": [
       "<div>\n",
       "<style scoped>\n",
       "    .dataframe tbody tr th:only-of-type {\n",
       "        vertical-align: middle;\n",
       "    }\n",
       "\n",
       "    .dataframe tbody tr th {\n",
       "        vertical-align: top;\n",
       "    }\n",
       "\n",
       "    .dataframe thead th {\n",
       "        text-align: right;\n",
       "    }\n",
       "</style>\n",
       "<table border=\"1\" class=\"dataframe\">\n",
       "  <thead>\n",
       "    <tr style=\"text-align: right;\">\n",
       "      <th></th>\n",
       "      <th>recipe_id</th>\n",
       "      <th>images</th>\n",
       "    </tr>\n",
       "  </thead>\n",
       "  <tbody>\n",
       "    <tr>\n",
       "      <th>0</th>\n",
       "      <td>0024419cd2</td>\n",
       "      <td>[{'id': '778025ea27.jpg', 'url': 'http://tasty...</td>\n",
       "    </tr>\n",
       "    <tr>\n",
       "      <th>1</th>\n",
       "      <td>002a3b4c85</td>\n",
       "      <td>[{'id': '8521419996.jpg', 'url': 'http://img.s...</td>\n",
       "    </tr>\n",
       "    <tr>\n",
       "      <th>2</th>\n",
       "      <td>00451d4108</td>\n",
       "      <td>[{'id': 'b8c271de69.jpg', 'url': 'http://tasty...</td>\n",
       "    </tr>\n",
       "    <tr>\n",
       "      <th>3</th>\n",
       "      <td>005b741ddb</td>\n",
       "      <td>[{'id': 'd6cd535df8.jpg', 'url': 'http://img.s...</td>\n",
       "    </tr>\n",
       "    <tr>\n",
       "      <th>4</th>\n",
       "      <td>006499997c</td>\n",
       "      <td>[{'id': 'c26f0ff2a1.jpg', 'url': 'http://img.s...</td>\n",
       "    </tr>\n",
       "  </tbody>\n",
       "</table>\n",
       "</div>"
      ],
      "text/plain": [
       "    recipe_id                                             images\n",
       "0  0024419cd2  [{'id': '778025ea27.jpg', 'url': 'http://tasty...\n",
       "1  002a3b4c85  [{'id': '8521419996.jpg', 'url': 'http://img.s...\n",
       "2  00451d4108  [{'id': 'b8c271de69.jpg', 'url': 'http://tasty...\n",
       "3  005b741ddb  [{'id': 'd6cd535df8.jpg', 'url': 'http://img.s...\n",
       "4  006499997c  [{'id': 'c26f0ff2a1.jpg', 'url': 'http://img.s..."
      ]
     },
     "execution_count": 22,
     "metadata": {},
     "output_type": "execute_result"
    }
   ],
   "source": [
    "# Find rows that have same IDs. \n",
    "exp_df2 = df2.merge(exp_df1, on='recipe_id')[['recipe_id', 'images']]\n",
    "exp_df2.head()"
   ]
  },
  {
   "cell_type": "code",
   "execution_count": 23,
   "metadata": {},
   "outputs": [
    {
     "data": {
      "text/html": [
       "<div>\n",
       "<style scoped>\n",
       "    .dataframe tbody tr th:only-of-type {\n",
       "        vertical-align: middle;\n",
       "    }\n",
       "\n",
       "    .dataframe tbody tr th {\n",
       "        vertical-align: top;\n",
       "    }\n",
       "\n",
       "    .dataframe thead th {\n",
       "        text-align: right;\n",
       "    }\n",
       "</style>\n",
       "<table border=\"1\" class=\"dataframe\">\n",
       "  <thead>\n",
       "    <tr style=\"text-align: right;\">\n",
       "      <th></th>\n",
       "      <th>recipe_id</th>\n",
       "      <th>images</th>\n",
       "    </tr>\n",
       "  </thead>\n",
       "  <tbody>\n",
       "    <tr>\n",
       "      <th>count</th>\n",
       "      <td>4092</td>\n",
       "      <td>4092</td>\n",
       "    </tr>\n",
       "    <tr>\n",
       "      <th>unique</th>\n",
       "      <td>4092</td>\n",
       "      <td>4092</td>\n",
       "    </tr>\n",
       "    <tr>\n",
       "      <th>top</th>\n",
       "      <td>0eec01ddb3</td>\n",
       "      <td>[{'id': 'a19a331f15.jpg', 'url': 'http://cdn-i...</td>\n",
       "    </tr>\n",
       "    <tr>\n",
       "      <th>freq</th>\n",
       "      <td>1</td>\n",
       "      <td>1</td>\n",
       "    </tr>\n",
       "  </tbody>\n",
       "</table>\n",
       "</div>"
      ],
      "text/plain": [
       "         recipe_id                                             images\n",
       "count         4092                                               4092\n",
       "unique        4092                                               4092\n",
       "top     0eec01ddb3  [{'id': 'a19a331f15.jpg', 'url': 'http://cdn-i...\n",
       "freq             1                                                  1"
      ]
     },
     "execution_count": 23,
     "metadata": {},
     "output_type": "execute_result"
    }
   ],
   "source": [
    "exp_df2.describe()"
   ]
  },
  {
   "cell_type": "code",
   "execution_count": 27,
   "metadata": {},
   "outputs": [
    {
     "data": {
      "text/html": [
       "<div>\n",
       "<style scoped>\n",
       "    .dataframe tbody tr th:only-of-type {\n",
       "        vertical-align: middle;\n",
       "    }\n",
       "\n",
       "    .dataframe tbody tr th {\n",
       "        vertical-align: top;\n",
       "    }\n",
       "\n",
       "    .dataframe thead th {\n",
       "        text-align: right;\n",
       "    }\n",
       "</style>\n",
       "<table border=\"1\" class=\"dataframe\">\n",
       "  <thead>\n",
       "    <tr style=\"text-align: right;\">\n",
       "      <th></th>\n",
       "      <th>valid</th>\n",
       "      <th>recipe_id</th>\n",
       "      <th>ingredients</th>\n",
       "    </tr>\n",
       "  </thead>\n",
       "  <tbody>\n",
       "    <tr>\n",
       "      <th>0</th>\n",
       "      <td>[True, True, True, True, True, True, True, Tru...</td>\n",
       "      <td>000018c8a5</td>\n",
       "      <td>[{'text': 'penne'}, {'text': 'cheese sauce'}, ...</td>\n",
       "    </tr>\n",
       "    <tr>\n",
       "      <th>1</th>\n",
       "      <td>[True, True, True, True, True, True, True, Tru...</td>\n",
       "      <td>000033e39b</td>\n",
       "      <td>[{'text': 'elbow macaroni'}, {'text': 'America...</td>\n",
       "    </tr>\n",
       "    <tr>\n",
       "      <th>2</th>\n",
       "      <td>[True, True, True, True, True, True, True, Tru...</td>\n",
       "      <td>000035f7ed</td>\n",
       "      <td>[{'text': 'tomatoes'}, {'text': 'kosher salt'}...</td>\n",
       "    </tr>\n",
       "    <tr>\n",
       "      <th>3</th>\n",
       "      <td>[True, True, True, True, True, True, True]</td>\n",
       "      <td>00003a70b1</td>\n",
       "      <td>[{'text': 'milk'}, {'text': 'water'}, {'text':...</td>\n",
       "    </tr>\n",
       "    <tr>\n",
       "      <th>4</th>\n",
       "      <td>[True, True, True, True, True]</td>\n",
       "      <td>00004320bb</td>\n",
       "      <td>[{'text': 'watermelon gelatin'}, {'text': 'boi...</td>\n",
       "    </tr>\n",
       "  </tbody>\n",
       "</table>\n",
       "</div>"
      ],
      "text/plain": [
       "                                               valid   recipe_id  \\\n",
       "0  [True, True, True, True, True, True, True, Tru...  000018c8a5   \n",
       "1  [True, True, True, True, True, True, True, Tru...  000033e39b   \n",
       "2  [True, True, True, True, True, True, True, Tru...  000035f7ed   \n",
       "3         [True, True, True, True, True, True, True]  00003a70b1   \n",
       "4                     [True, True, True, True, True]  00004320bb   \n",
       "\n",
       "                                         ingredients  \n",
       "0  [{'text': 'penne'}, {'text': 'cheese sauce'}, ...  \n",
       "1  [{'text': 'elbow macaroni'}, {'text': 'America...  \n",
       "2  [{'text': 'tomatoes'}, {'text': 'kosher salt'}...  \n",
       "3  [{'text': 'milk'}, {'text': 'water'}, {'text':...  \n",
       "4  [{'text': 'watermelon gelatin'}, {'text': 'boi...  "
      ]
     },
     "execution_count": 27,
     "metadata": {},
     "output_type": "execute_result"
    }
   ],
   "source": [
    "indexes = df3.merge(exp_df1, on='recipe_id').index\n",
    "exp_df3 = df3.loc[indexes]\n",
    "exp_df3.head()"
   ]
  },
  {
   "cell_type": "markdown",
   "metadata": {},
   "source": [
    "## From exp_df2, select images from the dataset and create new datasets\n",
    "I might need to do this in the local environment"
   ]
  },
  {
   "cell_type": "code",
   "execution_count": 28,
   "metadata": {},
   "outputs": [],
   "source": [
    "exp_df1.to_json('/projects/kawa7978/small_layer1.json', orient='records')\n",
    "exp_df2.to_json('/projects/kawa7978/small_layer2.json', orient='records')\n",
    "exp_df3.to_json('/projects/kawa7978/small_det_ingrs.json', orient='records')"
   ]
  },
  {
   "cell_type": "code",
   "execution_count": null,
   "metadata": {},
   "outputs": [],
   "source": []
  }
 ],
 "metadata": {
  "kernelspec": {
   "display_name": "Python 3",
   "language": "python",
   "name": "python3"
  },
  "language_info": {
   "codemirror_mode": {
    "name": "ipython",
    "version": 3
   },
   "file_extension": ".py",
   "mimetype": "text/x-python",
   "name": "python",
   "nbconvert_exporter": "python",
   "pygments_lexer": "ipython3",
   "version": "3.6.9"
  }
 },
 "nbformat": 4,
 "nbformat_minor": 2
}
