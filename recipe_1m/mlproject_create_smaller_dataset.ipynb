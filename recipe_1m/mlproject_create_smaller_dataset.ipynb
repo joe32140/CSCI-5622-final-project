{
 "cells": [
  {
   "cell_type": "code",
   "execution_count": 49,
   "metadata": {},
   "outputs": [],
   "source": [
    "import matplotlib.pyplot as plt\n",
    "import pandas as pd\n",
    "import numpy as np\n",
    "import json\n",
    "from matplotlib.pyplot import imshow\n",
    "from IPython.display import Image, display\n",
    "from shutil import copyfile\n",
    "\n",
    "import os \n",
    "import sys"
   ]
  },
  {
   "cell_type": "code",
   "execution_count": 136,
   "metadata": {},
   "outputs": [],
   "source": [
    "f = open('small_layer1.json', 'r')\n",
    "layer1 = json.load(f)\n",
    "\n",
    "f = open('small_layer2.json', 'r')\n",
    "layer2 = json.load(f)\n",
    "\n",
    "df1 = pd.read_json('small_layer1.json')\n",
    "df2 = pd.read_json('small_layer2.json')"
   ]
  },
  {
   "cell_type": "code",
   "execution_count": 137,
   "metadata": {},
   "outputs": [
    {
     "name": "stdout",
     "output_type": "stream",
     "text": [
      "{'ingredients': [{'text': '12 cup diet cola (Coke)'}, {'text': '2 tablespoons fresh coarse ground black pepper'}, {'text': '2 teaspoons ground black pepper'}, {'text': '2 tablespoons chopped onions'}, {'text': '6 ounces lean beef, cut into stir fry strips'}, {'text': '1 tablespoon extra virgin olive oil'}, {'text': '4 ounces white mushrooms'}, {'text': '2 tablespoons celery, sliced'}, {'text': '4 stalks fresh asparagus, each stalk cut into 3 sections'}, {'text': '2 teaspoons low sodium soy sauce (optional)'}], 'url': 'http://www.food.com/recipe/black-pepper-beef-and-asparagus-stir-fry-288018', 'partition': 'train', 'title': 'Black Pepper Beef and Asparagus Stir Fry', 'recipe_id': 'c5372eec99', 'instructions': [{'text': 'Mix the Diet Coke, black pepper and onions.'}, {'text': 'Add the beef strips and marinate for 30 minutes.'}, {'text': 'Heat a heavy skillet or wok over high heat.'}, {'text': 'Add the olive oil and vegetables.'}, {'text': 'Stir fry for 2 minutes.'}, {'text': 'Add beef and marinade and fry for 2 minutes.'}, {'text': 'Add soy sauce if using.'}, {'text': 'Serve immediately over rice or noodles, your choice.'}]}\n",
      "----------------------------------------------------------------------------------------------------\n",
      "{'recipe_id': '0016fbe69b', 'images': [{'id': '80906fb461.jpg', 'url': 'https://img-global.cpcdn.com/001_recipes/6192360158396416/0x0/photo.jpg'}]}\n"
     ]
    }
   ],
   "source": [
    "print(layer1[0])\n",
    "print('-'*100)\n",
    "print(layer2[0])"
   ]
  },
  {
   "cell_type": "code",
   "execution_count": 138,
   "metadata": {},
   "outputs": [
    {
     "data": {
      "text/html": [
       "<div>\n",
       "<style scoped>\n",
       "    .dataframe tbody tr th:only-of-type {\n",
       "        vertical-align: middle;\n",
       "    }\n",
       "\n",
       "    .dataframe tbody tr th {\n",
       "        vertical-align: top;\n",
       "    }\n",
       "\n",
       "    .dataframe thead th {\n",
       "        text-align: right;\n",
       "    }\n",
       "</style>\n",
       "<table border=\"1\" class=\"dataframe\">\n",
       "  <thead>\n",
       "    <tr style=\"text-align: right;\">\n",
       "      <th></th>\n",
       "      <th>ingredients</th>\n",
       "      <th>url</th>\n",
       "      <th>partition</th>\n",
       "      <th>title</th>\n",
       "      <th>recipe_id</th>\n",
       "      <th>instructions</th>\n",
       "    </tr>\n",
       "  </thead>\n",
       "  <tbody>\n",
       "    <tr>\n",
       "      <th>0</th>\n",
       "      <td>[{'text': '12 cup diet cola (Coke)'}, {'text':...</td>\n",
       "      <td>http://www.food.com/recipe/black-pepper-beef-a...</td>\n",
       "      <td>train</td>\n",
       "      <td>Black Pepper Beef and Asparagus Stir Fry</td>\n",
       "      <td>c5372eec99</td>\n",
       "      <td>[{'text': 'Mix the Diet Coke, black pepper and...</td>\n",
       "    </tr>\n",
       "    <tr>\n",
       "      <th>1</th>\n",
       "      <td>[{'text': '1/4 cup butter'}, {'text': '1 (10 o...</td>\n",
       "      <td>http://allrecipes.com/recipe/artichoke-spinach...</td>\n",
       "      <td>train</td>\n",
       "      <td>Artichoke Spinach Dip</td>\n",
       "      <td>784acc226c</td>\n",
       "      <td>[{'text': 'Melt butter in a large saucepan ove...</td>\n",
       "    </tr>\n",
       "    <tr>\n",
       "      <th>2</th>\n",
       "      <td>[{'text': '12 cup vegetable shortening'}, {'te...</td>\n",
       "      <td>http://www.food.com/recipe/lemon-snowball-cook...</td>\n",
       "      <td>train</td>\n",
       "      <td>Lemon Snowball Cookies</td>\n",
       "      <td>afed4c9ff3</td>\n",
       "      <td>[{'text': 'In a large mixing bowl beat shorten...</td>\n",
       "    </tr>\n",
       "    <tr>\n",
       "      <th>3</th>\n",
       "      <td>[{'text': '1 medium egg white'}, {'text': '2 t...</td>\n",
       "      <td>http://www.food.com/recipe/szechuan-sesame-chi...</td>\n",
       "      <td>train</td>\n",
       "      <td>Szechuan Sesame Chicken</td>\n",
       "      <td>73ee1438bb</td>\n",
       "      <td>[{'text': 'Beat the egg white with the cornflo...</td>\n",
       "    </tr>\n",
       "    <tr>\n",
       "      <th>4</th>\n",
       "      <td>[{'text': '1/4 recipe Perfect Parmesan Pizza D...</td>\n",
       "      <td>http://www.kraftrecipes.com/recipes/spicy-hawa...</td>\n",
       "      <td>train</td>\n",
       "      <td>Spicy Hawaiian Pizza</td>\n",
       "      <td>be2ecc11cc</td>\n",
       "      <td>[{'text': 'Heat oven to 450 degrees F.'}, {'te...</td>\n",
       "    </tr>\n",
       "  </tbody>\n",
       "</table>\n",
       "</div>"
      ],
      "text/plain": [
       "                                         ingredients  \\\n",
       "0  [{'text': '12 cup diet cola (Coke)'}, {'text':...   \n",
       "1  [{'text': '1/4 cup butter'}, {'text': '1 (10 o...   \n",
       "2  [{'text': '12 cup vegetable shortening'}, {'te...   \n",
       "3  [{'text': '1 medium egg white'}, {'text': '2 t...   \n",
       "4  [{'text': '1/4 recipe Perfect Parmesan Pizza D...   \n",
       "\n",
       "                                                 url partition  \\\n",
       "0  http://www.food.com/recipe/black-pepper-beef-a...     train   \n",
       "1  http://allrecipes.com/recipe/artichoke-spinach...     train   \n",
       "2  http://www.food.com/recipe/lemon-snowball-cook...     train   \n",
       "3  http://www.food.com/recipe/szechuan-sesame-chi...     train   \n",
       "4  http://www.kraftrecipes.com/recipes/spicy-hawa...     train   \n",
       "\n",
       "                                      title   recipe_id  \\\n",
       "0  Black Pepper Beef and Asparagus Stir Fry  c5372eec99   \n",
       "1                     Artichoke Spinach Dip  784acc226c   \n",
       "2                    Lemon Snowball Cookies  afed4c9ff3   \n",
       "3                   Szechuan Sesame Chicken  73ee1438bb   \n",
       "4                      Spicy Hawaiian Pizza  be2ecc11cc   \n",
       "\n",
       "                                        instructions  \n",
       "0  [{'text': 'Mix the Diet Coke, black pepper and...  \n",
       "1  [{'text': 'Melt butter in a large saucepan ove...  \n",
       "2  [{'text': 'In a large mixing bowl beat shorten...  \n",
       "3  [{'text': 'Beat the egg white with the cornflo...  \n",
       "4  [{'text': 'Heat oven to 450 degrees F.'}, {'te...  "
      ]
     },
     "execution_count": 138,
     "metadata": {},
     "output_type": "execute_result"
    }
   ],
   "source": [
    "df1.head()"
   ]
  },
  {
   "cell_type": "code",
   "execution_count": 139,
   "metadata": {},
   "outputs": [
    {
     "data": {
      "text/html": [
       "<div>\n",
       "<style scoped>\n",
       "    .dataframe tbody tr th:only-of-type {\n",
       "        vertical-align: middle;\n",
       "    }\n",
       "\n",
       "    .dataframe tbody tr th {\n",
       "        vertical-align: top;\n",
       "    }\n",
       "\n",
       "    .dataframe thead th {\n",
       "        text-align: right;\n",
       "    }\n",
       "</style>\n",
       "<table border=\"1\" class=\"dataframe\">\n",
       "  <thead>\n",
       "    <tr style=\"text-align: right;\">\n",
       "      <th></th>\n",
       "      <th>recipe_id</th>\n",
       "      <th>images</th>\n",
       "    </tr>\n",
       "  </thead>\n",
       "  <tbody>\n",
       "    <tr>\n",
       "      <th>0</th>\n",
       "      <td>0016fbe69b</td>\n",
       "      <td>[{'id': '80906fb461.jpg', 'url': 'https://img-...</td>\n",
       "    </tr>\n",
       "    <tr>\n",
       "      <th>1</th>\n",
       "      <td>001ac13db4</td>\n",
       "      <td>[{'id': '098931ec74.jpg', 'url': 'https://img-...</td>\n",
       "    </tr>\n",
       "    <tr>\n",
       "      <th>2</th>\n",
       "      <td>00299c1a1a</td>\n",
       "      <td>[{'id': '9326d7daaf.jpg', 'url': 'http://tasty...</td>\n",
       "    </tr>\n",
       "    <tr>\n",
       "      <th>3</th>\n",
       "      <td>003c46e073</td>\n",
       "      <td>[{'id': '2a73637406.jpg', 'url': 'http://tasty...</td>\n",
       "    </tr>\n",
       "    <tr>\n",
       "      <th>4</th>\n",
       "      <td>003eb2c01a</td>\n",
       "      <td>[{'id': '1be20f0d01.jpg', 'url': 'http://img.s...</td>\n",
       "    </tr>\n",
       "  </tbody>\n",
       "</table>\n",
       "</div>"
      ],
      "text/plain": [
       "    recipe_id                                             images\n",
       "0  0016fbe69b  [{'id': '80906fb461.jpg', 'url': 'https://img-...\n",
       "1  001ac13db4  [{'id': '098931ec74.jpg', 'url': 'https://img-...\n",
       "2  00299c1a1a  [{'id': '9326d7daaf.jpg', 'url': 'http://tasty...\n",
       "3  003c46e073  [{'id': '2a73637406.jpg', 'url': 'http://tasty...\n",
       "4  003eb2c01a  [{'id': '1be20f0d01.jpg', 'url': 'http://img.s..."
      ]
     },
     "execution_count": 139,
     "metadata": {},
     "output_type": "execute_result"
    }
   ],
   "source": [
    "df2.head()"
   ]
  },
  {
   "cell_type": "code",
   "execution_count": 140,
   "metadata": {},
   "outputs": [
    {
     "name": "stdout",
     "output_type": "stream",
     "text": [
      "<class 'list'>\n",
      "adab7e08f1.jpg http://img.sndimg.com/food/image/upload/w_512,h_512,c_fit,fl_progressive,q_95/v1/img/recipes/41/00/63/picZWGytE.jpg\n"
     ]
    },
    {
     "data": {
      "text/html": [
       "<img src=\"http://img.sndimg.com/food/image/upload/w_512,h_512,c_fit,fl_progressive,q_95/v1/img/recipes/41/00/63/picZWGytE.jpg\"/>"
      ],
      "text/plain": [
       "<IPython.core.display.Image object>"
      ]
     },
     "metadata": {},
     "output_type": "display_data"
    }
   ],
   "source": [
    "images = df2['images'].loc[7]\n",
    "print(type(images))\n",
    "for image in images:\n",
    "    print(image['id'], image['url'])\n",
    "    img = Image(url=image['url']) \n",
    "    display(img)"
   ]
  },
  {
   "cell_type": "code",
   "execution_count": 149,
   "metadata": {},
   "outputs": [
    {
     "data": {
      "text/plain": [
       "8164"
      ]
     },
     "execution_count": 149,
     "metadata": {},
     "output_type": "execute_result"
    }
   ],
   "source": [
    "df2.size"
   ]
  },
  {
   "cell_type": "code",
   "execution_count": 154,
   "metadata": {},
   "outputs": [],
   "source": [
    "ORIG_PATH = ''\n",
    "NEW_PATH = 'small_'\n",
    "\n",
    "def filename_to_subdir(image_id):\n",
    "    dirs = list(image_id[:4])\n",
    "    return os.path.join(*dirs)\n",
    "\n",
    "\n",
    "def copy_to_new_dataset(filename, parent_dir):\n",
    "    sub_directory = filename_to_subdir(filename)\n",
    "\n",
    "    directory = os.path.join(parent_dir, sub_directory)\n",
    "    new_directory = NEW_PATH + directory\n",
    "    \n",
    "    filepath = os.path.join(directory, filename)\n",
    "    new_filepath = os.path.join(new_directory, filename)\n",
    "    \n",
    "    if not os.path.exists(new_directory):\n",
    "        os.makedirs(new_directory)\n",
    "    copyfile(filepath, new_filepath)\n",
    "\n",
    "\n",
    "for index, row in df2.iterrows():\n",
    "    recipe_id = row['recipe_id']\n",
    "    images = row['images']\n",
    "    \n",
    "    parent_dir = df1[df1.recipe_id==recipe_id]['partition'].to_string(index=False)\n",
    "    parent_dir = parent_dir.replace(' ', '')\n",
    "    \n",
    "    if len(images)>0:\n",
    "        for image in images:\n",
    "            copy_to_new_dataset(image['id'], parent_dir)\n"
   ]
  },
  {
   "cell_type": "code",
   "execution_count": null,
   "metadata": {},
   "outputs": [],
   "source": []
  }
 ],
 "metadata": {
  "kernelspec": {
   "display_name": "Python 3",
   "language": "python",
   "name": "python3"
  },
  "language_info": {
   "codemirror_mode": {
    "name": "ipython",
    "version": 3
   },
   "file_extension": ".py",
   "mimetype": "text/x-python",
   "name": "python",
   "nbconvert_exporter": "python",
   "pygments_lexer": "ipython3",
   "version": "3.6.9"
  }
 },
 "nbformat": 4,
 "nbformat_minor": 2
}
