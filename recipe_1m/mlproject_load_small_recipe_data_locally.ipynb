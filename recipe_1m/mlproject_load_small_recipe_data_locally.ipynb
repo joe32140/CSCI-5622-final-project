{
 "cells": [
  {
   "cell_type": "code",
   "execution_count": 1,
   "metadata": {},
   "outputs": [],
   "source": [
    "import pandas as pd \n",
    "import numpy as np"
   ]
  },
  {
   "cell_type": "code",
   "execution_count": 2,
   "metadata": {},
   "outputs": [
    {
     "data": {
      "text/html": [
       "<div>\n",
       "<style scoped>\n",
       "    .dataframe tbody tr th:only-of-type {\n",
       "        vertical-align: middle;\n",
       "    }\n",
       "\n",
       "    .dataframe tbody tr th {\n",
       "        vertical-align: top;\n",
       "    }\n",
       "\n",
       "    .dataframe thead th {\n",
       "        text-align: right;\n",
       "    }\n",
       "</style>\n",
       "<table border=\"1\" class=\"dataframe\">\n",
       "  <thead>\n",
       "    <tr style=\"text-align: right;\">\n",
       "      <th></th>\n",
       "      <th>ingredients</th>\n",
       "      <th>instructions</th>\n",
       "      <th>partition</th>\n",
       "      <th>recipe_id</th>\n",
       "      <th>title</th>\n",
       "      <th>url</th>\n",
       "    </tr>\n",
       "  </thead>\n",
       "  <tbody>\n",
       "    <tr>\n",
       "      <th>0</th>\n",
       "      <td>[{'text': '12 cup diet cola (Coke)'}, {'text':...</td>\n",
       "      <td>[{'text': 'Mix the Diet Coke, black pepper and...</td>\n",
       "      <td>train</td>\n",
       "      <td>c5372eec99</td>\n",
       "      <td>Black Pepper Beef and Asparagus Stir Fry</td>\n",
       "      <td>http://www.food.com/recipe/black-pepper-beef-a...</td>\n",
       "    </tr>\n",
       "    <tr>\n",
       "      <th>1</th>\n",
       "      <td>[{'text': '1/4 cup butter'}, {'text': '1 (10 o...</td>\n",
       "      <td>[{'text': 'Melt butter in a large saucepan ove...</td>\n",
       "      <td>train</td>\n",
       "      <td>784acc226c</td>\n",
       "      <td>Artichoke Spinach Dip</td>\n",
       "      <td>http://allrecipes.com/recipe/artichoke-spinach...</td>\n",
       "    </tr>\n",
       "    <tr>\n",
       "      <th>2</th>\n",
       "      <td>[{'text': '12 cup vegetable shortening'}, {'te...</td>\n",
       "      <td>[{'text': 'In a large mixing bowl beat shorten...</td>\n",
       "      <td>train</td>\n",
       "      <td>afed4c9ff3</td>\n",
       "      <td>Lemon Snowball Cookies</td>\n",
       "      <td>http://www.food.com/recipe/lemon-snowball-cook...</td>\n",
       "    </tr>\n",
       "    <tr>\n",
       "      <th>3</th>\n",
       "      <td>[{'text': '1 medium egg white'}, {'text': '2 t...</td>\n",
       "      <td>[{'text': 'Beat the egg white with the cornflo...</td>\n",
       "      <td>train</td>\n",
       "      <td>73ee1438bb</td>\n",
       "      <td>Szechuan Sesame Chicken</td>\n",
       "      <td>http://www.food.com/recipe/szechuan-sesame-chi...</td>\n",
       "    </tr>\n",
       "    <tr>\n",
       "      <th>4</th>\n",
       "      <td>[{'text': '1/4 recipe Perfect Parmesan Pizza D...</td>\n",
       "      <td>[{'text': 'Heat oven to 450 degrees F.'}, {'te...</td>\n",
       "      <td>train</td>\n",
       "      <td>be2ecc11cc</td>\n",
       "      <td>Spicy Hawaiian Pizza</td>\n",
       "      <td>http://www.kraftrecipes.com/recipes/spicy-hawa...</td>\n",
       "    </tr>\n",
       "  </tbody>\n",
       "</table>\n",
       "</div>"
      ],
      "text/plain": [
       "                                         ingredients  \\\n",
       "0  [{'text': '12 cup diet cola (Coke)'}, {'text':...   \n",
       "1  [{'text': '1/4 cup butter'}, {'text': '1 (10 o...   \n",
       "2  [{'text': '12 cup vegetable shortening'}, {'te...   \n",
       "3  [{'text': '1 medium egg white'}, {'text': '2 t...   \n",
       "4  [{'text': '1/4 recipe Perfect Parmesan Pizza D...   \n",
       "\n",
       "                                        instructions partition   recipe_id  \\\n",
       "0  [{'text': 'Mix the Diet Coke, black pepper and...     train  c5372eec99   \n",
       "1  [{'text': 'Melt butter in a large saucepan ove...     train  784acc226c   \n",
       "2  [{'text': 'In a large mixing bowl beat shorten...     train  afed4c9ff3   \n",
       "3  [{'text': 'Beat the egg white with the cornflo...     train  73ee1438bb   \n",
       "4  [{'text': 'Heat oven to 450 degrees F.'}, {'te...     train  be2ecc11cc   \n",
       "\n",
       "                                      title  \\\n",
       "0  Black Pepper Beef and Asparagus Stir Fry   \n",
       "1                     Artichoke Spinach Dip   \n",
       "2                    Lemon Snowball Cookies   \n",
       "3                   Szechuan Sesame Chicken   \n",
       "4                      Spicy Hawaiian Pizza   \n",
       "\n",
       "                                                 url  \n",
       "0  http://www.food.com/recipe/black-pepper-beef-a...  \n",
       "1  http://allrecipes.com/recipe/artichoke-spinach...  \n",
       "2  http://www.food.com/recipe/lemon-snowball-cook...  \n",
       "3  http://www.food.com/recipe/szechuan-sesame-chi...  \n",
       "4  http://www.kraftrecipes.com/recipes/spicy-hawa...  "
      ]
     },
     "execution_count": 2,
     "metadata": {},
     "output_type": "execute_result"
    }
   ],
   "source": [
    "df1 = pd.read_json('small_layer1.json')\n",
    "df1.head()"
   ]
  },
  {
   "cell_type": "code",
   "execution_count": 3,
   "metadata": {},
   "outputs": [
    {
     "data": {
      "text/html": [
       "<div>\n",
       "<style scoped>\n",
       "    .dataframe tbody tr th:only-of-type {\n",
       "        vertical-align: middle;\n",
       "    }\n",
       "\n",
       "    .dataframe tbody tr th {\n",
       "        vertical-align: top;\n",
       "    }\n",
       "\n",
       "    .dataframe thead th {\n",
       "        text-align: right;\n",
       "    }\n",
       "</style>\n",
       "<table border=\"1\" class=\"dataframe\">\n",
       "  <thead>\n",
       "    <tr style=\"text-align: right;\">\n",
       "      <th></th>\n",
       "      <th>images</th>\n",
       "      <th>recipe_id</th>\n",
       "    </tr>\n",
       "  </thead>\n",
       "  <tbody>\n",
       "    <tr>\n",
       "      <th>0</th>\n",
       "      <td>[{'id': '80906fb461.jpg', 'url': 'https://img-...</td>\n",
       "      <td>0016fbe69b</td>\n",
       "    </tr>\n",
       "    <tr>\n",
       "      <th>1</th>\n",
       "      <td>[{'id': '098931ec74.jpg', 'url': 'https://img-...</td>\n",
       "      <td>001ac13db4</td>\n",
       "    </tr>\n",
       "    <tr>\n",
       "      <th>2</th>\n",
       "      <td>[{'id': '9326d7daaf.jpg', 'url': 'http://tasty...</td>\n",
       "      <td>00299c1a1a</td>\n",
       "    </tr>\n",
       "    <tr>\n",
       "      <th>3</th>\n",
       "      <td>[{'id': '2a73637406.jpg', 'url': 'http://tasty...</td>\n",
       "      <td>003c46e073</td>\n",
       "    </tr>\n",
       "    <tr>\n",
       "      <th>4</th>\n",
       "      <td>[{'id': '1be20f0d01.jpg', 'url': 'http://img.s...</td>\n",
       "      <td>003eb2c01a</td>\n",
       "    </tr>\n",
       "  </tbody>\n",
       "</table>\n",
       "</div>"
      ],
      "text/plain": [
       "                                              images   recipe_id\n",
       "0  [{'id': '80906fb461.jpg', 'url': 'https://img-...  0016fbe69b\n",
       "1  [{'id': '098931ec74.jpg', 'url': 'https://img-...  001ac13db4\n",
       "2  [{'id': '9326d7daaf.jpg', 'url': 'http://tasty...  00299c1a1a\n",
       "3  [{'id': '2a73637406.jpg', 'url': 'http://tasty...  003c46e073\n",
       "4  [{'id': '1be20f0d01.jpg', 'url': 'http://img.s...  003eb2c01a"
      ]
     },
     "execution_count": 3,
     "metadata": {},
     "output_type": "execute_result"
    }
   ],
   "source": [
    "df2 = pd.read_json('small_layer2.json')\n",
    "df2.head()"
   ]
  },
  {
   "cell_type": "code",
   "execution_count": 4,
   "metadata": {},
   "outputs": [
    {
     "data": {
      "text/html": [
       "<div>\n",
       "<style scoped>\n",
       "    .dataframe tbody tr th:only-of-type {\n",
       "        vertical-align: middle;\n",
       "    }\n",
       "\n",
       "    .dataframe tbody tr th {\n",
       "        vertical-align: top;\n",
       "    }\n",
       "\n",
       "    .dataframe thead th {\n",
       "        text-align: right;\n",
       "    }\n",
       "</style>\n",
       "<table border=\"1\" class=\"dataframe\">\n",
       "  <thead>\n",
       "    <tr style=\"text-align: right;\">\n",
       "      <th></th>\n",
       "      <th>ingredients</th>\n",
       "      <th>recipe_id</th>\n",
       "      <th>valid</th>\n",
       "    </tr>\n",
       "  </thead>\n",
       "  <tbody>\n",
       "    <tr>\n",
       "      <th>0</th>\n",
       "      <td>[{'text': 'tomatoes'}, {'text': 'fresh basil'}...</td>\n",
       "      <td>0014f77398</td>\n",
       "      <td>[True, True, True, True, True, True, True, True]</td>\n",
       "    </tr>\n",
       "    <tr>\n",
       "      <th>1</th>\n",
       "      <td>[{'text': 'ice cream cones'}, {'text': 'vanill...</td>\n",
       "      <td>0016c315f5</td>\n",
       "      <td>[True, True, True, True, True, True, True, Tru...</td>\n",
       "    </tr>\n",
       "    <tr>\n",
       "      <th>2</th>\n",
       "      <td>[{'text': 'fresh asparagus'}, {'text': 'sugar'...</td>\n",
       "      <td>00210897d8</td>\n",
       "      <td>[True, True, True, True, True, True, True]</td>\n",
       "    </tr>\n",
       "    <tr>\n",
       "      <th>3</th>\n",
       "      <td>[{'text': 'whole wheat flour'}, {'text': 'salt...</td>\n",
       "      <td>002dcd51b8</td>\n",
       "      <td>[True, True, True, True, True, True]</td>\n",
       "    </tr>\n",
       "    <tr>\n",
       "      <th>4</th>\n",
       "      <td>[{'text': 'Simply Potatoes Shredded Hash Brown...</td>\n",
       "      <td>004d0ada13</td>\n",
       "      <td>[True, True, True, True, True, True, True, Tru...</td>\n",
       "    </tr>\n",
       "  </tbody>\n",
       "</table>\n",
       "</div>"
      ],
      "text/plain": [
       "                                         ingredients   recipe_id  \\\n",
       "0  [{'text': 'tomatoes'}, {'text': 'fresh basil'}...  0014f77398   \n",
       "1  [{'text': 'ice cream cones'}, {'text': 'vanill...  0016c315f5   \n",
       "2  [{'text': 'fresh asparagus'}, {'text': 'sugar'...  00210897d8   \n",
       "3  [{'text': 'whole wheat flour'}, {'text': 'salt...  002dcd51b8   \n",
       "4  [{'text': 'Simply Potatoes Shredded Hash Brown...  004d0ada13   \n",
       "\n",
       "                                               valid  \n",
       "0   [True, True, True, True, True, True, True, True]  \n",
       "1  [True, True, True, True, True, True, True, Tru...  \n",
       "2         [True, True, True, True, True, True, True]  \n",
       "3               [True, True, True, True, True, True]  \n",
       "4  [True, True, True, True, True, True, True, Tru...  "
      ]
     },
     "execution_count": 4,
     "metadata": {},
     "output_type": "execute_result"
    }
   ],
   "source": [
    "df3 = pd.read_json('small_det_ingrs.json')\n",
    "df3.head()"
   ]
  },
  {
   "cell_type": "code",
   "execution_count": 9,
   "metadata": {},
   "outputs": [
    {
     "data": {
      "text/plain": [
       "[{'text': 'tomatoes'},\n",
       " {'text': 'fresh basil'},\n",
       " {'text': 'salt'},\n",
       " {'text': 'fresh portabella mushrooms'},\n",
       " {'text': 'balsamic vinegar'},\n",
       " {'text': 'olive oil'},\n",
       " {'text': 'focaccia bread'},\n",
       " {'text': 'parmesan cheese'}]"
      ]
     },
     "execution_count": 9,
     "metadata": {},
     "output_type": "execute_result"
    }
   ],
   "source": [
    "df3['ingredients'][0]"
   ]
  },
  {
   "cell_type": "code",
   "execution_count": 10,
   "metadata": {},
   "outputs": [
    {
     "data": {
      "text/plain": [
       "[{'text': '12 cup diet cola (Coke)'},\n",
       " {'text': '2 tablespoons fresh coarse ground black pepper'},\n",
       " {'text': '2 teaspoons ground black pepper'},\n",
       " {'text': '2 tablespoons chopped onions'},\n",
       " {'text': '6 ounces lean beef, cut into stir fry strips'},\n",
       " {'text': '1 tablespoon extra virgin olive oil'},\n",
       " {'text': '4 ounces white mushrooms'},\n",
       " {'text': '2 tablespoons celery, sliced'},\n",
       " {'text': '4 stalks fresh asparagus, each stalk cut into 3 sections'},\n",
       " {'text': '2 teaspoons low sodium soy sauce (optional)'}]"
      ]
     },
     "execution_count": 10,
     "metadata": {},
     "output_type": "execute_result"
    }
   ],
   "source": [
    "df1['ingredients'][0]"
   ]
  },
  {
   "cell_type": "code",
   "execution_count": null,
   "metadata": {},
   "outputs": [],
   "source": []
  }
 ],
 "metadata": {
  "kernelspec": {
   "display_name": "Python 3",
   "language": "python",
   "name": "python3"
  },
  "language_info": {
   "codemirror_mode": {
    "name": "ipython",
    "version": 3
   },
   "file_extension": ".py",
   "mimetype": "text/x-python",
   "name": "python",
   "nbconvert_exporter": "python",
   "pygments_lexer": "ipython3",
   "version": "3.6.9"
  }
 },
 "nbformat": 4,
 "nbformat_minor": 2
}
