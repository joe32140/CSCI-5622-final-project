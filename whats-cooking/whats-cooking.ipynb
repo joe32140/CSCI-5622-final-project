{
 "cells": [
  {
   "cell_type": "code",
   "execution_count": 49,
   "metadata": {
    "ExecuteTime": {
     "end_time": "2019-11-26T03:05:53.509634Z",
     "start_time": "2019-11-26T03:05:53.503766Z"
    }
   },
   "outputs": [],
   "source": [
    "import pandas as pd\n",
    "import numpy as np\n",
    "from sklearn.feature_extraction.text import TfidfVectorizer\n",
    "from sklearn.linear_model import LogisticRegression\n",
    "from sklearn.model_selection import train_test_split \n",
    "from sklearn.metrics import accuracy_score"
   ]
  },
  {
   "cell_type": "code",
   "execution_count": 42,
   "metadata": {
    "ExecuteTime": {
     "end_time": "2019-11-26T03:00:18.886605Z",
     "start_time": "2019-11-26T03:00:18.341513Z"
    }
   },
   "outputs": [],
   "source": [
    "training = pd.read_json('./train.json')\n",
    "test = pd.read_json('./test.json')"
   ]
  },
  {
   "cell_type": "code",
   "execution_count": 43,
   "metadata": {
    "ExecuteTime": {
     "end_time": "2019-11-26T03:00:19.409392Z",
     "start_time": "2019-11-26T03:00:19.385088Z"
    }
   },
   "outputs": [
    {
     "name": "stdout",
     "output_type": "stream",
     "text": [
      "X_train[0]:  ['romaine lettuce', 'black olives', 'grape tomatoes', 'garlic', 'pepper', 'purple onion', 'seasoning', 'garbanzo beans', 'feta cheese crumbles']\n",
      "Y_train[0]:  greek\n",
      "X_test[0]:  ['baking powder', 'eggs', 'all-purpose flour', 'raisins', 'milk', 'white sugar']\n"
     ]
    }
   ],
   "source": [
    "X_train = training['ingredients']\n",
    "y_train = training['cuisine']\n",
    "X_test = test['ingredients']\n",
    "for x in X_train:\n",
    "    if x == \"00\":\n",
    "        print('X, weird value')\n",
    "print('X_train[0]: ', X_train[0])\n",
    "print('Y_train[0]: ', y_train[0])\n",
    "print('X_test[0]: ', X_test[0])"
   ]
  },
  {
   "cell_type": "code",
   "execution_count": 44,
   "metadata": {
    "ExecuteTime": {
     "end_time": "2019-11-26T03:00:23.419895Z",
     "start_time": "2019-11-26T03:00:21.848215Z"
    }
   },
   "outputs": [
    {
     "name": "stdout",
     "output_type": "stream",
     "text": [
      "Ingredients Corpus:  romaine lettuce,black olives,grape tomatoes,garlic,pepper,purple onion,seasoning,garbanzo beans,feta cheese crumbles\n",
      "(39774, 2970)\n"
     ]
    }
   ],
   "source": [
    "ingredients_corpus = [','.join(x) for x in X_train]\n",
    "x_test_ingredients_corpus = [','.join(x) for x in X_test]\n",
    "print('Ingredients Corpus: ', ingredients_corpus[0])\n",
    "type(ingredients_corpus)\n",
    "\n",
    "vectorizer = TfidfVectorizer(stop_words='english', analyzer='word', ngram_range = ( 1 , 1 ))\n",
    "X_train = vectorizer.fit_transform(ingredients_corpus)\n",
    "X_test = vectorizer.transform(x_test_ingredients_corpus)\n",
    "# print(vectorizer.get_feature_names())\n",
    "print(X_train.shape)"
   ]
  },
  {
   "cell_type": "code",
   "execution_count": 46,
   "metadata": {
    "ExecuteTime": {
     "end_time": "2019-11-26T03:00:51.629495Z",
     "start_time": "2019-11-26T03:00:42.815454Z"
    }
   },
   "outputs": [
    {
     "name": "stdout",
     "output_type": "stream",
     "text": [
      "Predictions:  ['british' 'southern_us' 'italian' ... 'italian' 'southern_us' 'mexican']\n"
     ]
    },
    {
     "data": {
      "text/html": [
       "<div>\n",
       "<style>\n",
       "    .dataframe thead tr:only-child th {\n",
       "        text-align: right;\n",
       "    }\n",
       "\n",
       "    .dataframe thead th {\n",
       "        text-align: left;\n",
       "    }\n",
       "\n",
       "    .dataframe tbody tr th {\n",
       "        vertical-align: top;\n",
       "    }\n",
       "</style>\n",
       "<table border=\"1\" class=\"dataframe\">\n",
       "  <thead>\n",
       "    <tr style=\"text-align: right;\">\n",
       "      <th></th>\n",
       "      <th>id</th>\n",
       "      <th>ingredients</th>\n",
       "      <th>cuisine</th>\n",
       "    </tr>\n",
       "  </thead>\n",
       "  <tbody>\n",
       "    <tr>\n",
       "      <th>0</th>\n",
       "      <td>18009</td>\n",
       "      <td>[baking powder, eggs, all-purpose flour, raisi...</td>\n",
       "      <td>british</td>\n",
       "    </tr>\n",
       "    <tr>\n",
       "      <th>1</th>\n",
       "      <td>28583</td>\n",
       "      <td>[sugar, egg yolks, corn starch, cream of tarta...</td>\n",
       "      <td>southern_us</td>\n",
       "    </tr>\n",
       "    <tr>\n",
       "      <th>2</th>\n",
       "      <td>41580</td>\n",
       "      <td>[sausage links, fennel bulb, fronds, olive oil...</td>\n",
       "      <td>italian</td>\n",
       "    </tr>\n",
       "    <tr>\n",
       "      <th>3</th>\n",
       "      <td>29752</td>\n",
       "      <td>[meat cuts, file powder, smoked sausage, okra,...</td>\n",
       "      <td>cajun_creole</td>\n",
       "    </tr>\n",
       "    <tr>\n",
       "      <th>4</th>\n",
       "      <td>35687</td>\n",
       "      <td>[ground black pepper, salt, sausage casings, l...</td>\n",
       "      <td>italian</td>\n",
       "    </tr>\n",
       "    <tr>\n",
       "      <th>5</th>\n",
       "      <td>38527</td>\n",
       "      <td>[baking powder, all-purpose flour, peach slice...</td>\n",
       "      <td>southern_us</td>\n",
       "    </tr>\n",
       "    <tr>\n",
       "      <th>6</th>\n",
       "      <td>19666</td>\n",
       "      <td>[grape juice, orange, white zinfandel]</td>\n",
       "      <td>italian</td>\n",
       "    </tr>\n",
       "    <tr>\n",
       "      <th>7</th>\n",
       "      <td>41217</td>\n",
       "      <td>[ground ginger, white pepper, green onions, or...</td>\n",
       "      <td>chinese</td>\n",
       "    </tr>\n",
       "    <tr>\n",
       "      <th>8</th>\n",
       "      <td>28753</td>\n",
       "      <td>[diced onions, taco seasoning mix, all-purpose...</td>\n",
       "      <td>mexican</td>\n",
       "    </tr>\n",
       "    <tr>\n",
       "      <th>9</th>\n",
       "      <td>22659</td>\n",
       "      <td>[eggs, cherries, dates, dark muscovado sugar, ...</td>\n",
       "      <td>british</td>\n",
       "    </tr>\n",
       "    <tr>\n",
       "      <th>10</th>\n",
       "      <td>21749</td>\n",
       "      <td>[pasta, olive oil, crushed red pepper, cherry ...</td>\n",
       "      <td>italian</td>\n",
       "    </tr>\n",
       "    <tr>\n",
       "      <th>11</th>\n",
       "      <td>44967</td>\n",
       "      <td>[water, butter, ground sumac, ground lamb, gro...</td>\n",
       "      <td>greek</td>\n",
       "    </tr>\n",
       "    <tr>\n",
       "      <th>12</th>\n",
       "      <td>42969</td>\n",
       "      <td>[curry powder, ground cumin, chicken wings, ch...</td>\n",
       "      <td>indian</td>\n",
       "    </tr>\n",
       "    <tr>\n",
       "      <th>13</th>\n",
       "      <td>44883</td>\n",
       "      <td>[pasta, marinara sauce, dried basil, chicken f...</td>\n",
       "      <td>italian</td>\n",
       "    </tr>\n",
       "    <tr>\n",
       "      <th>14</th>\n",
       "      <td>20827</td>\n",
       "      <td>[salt, custard powder, white sugar, eggs, marg...</td>\n",
       "      <td>southern_us</td>\n",
       "    </tr>\n",
       "    <tr>\n",
       "      <th>15</th>\n",
       "      <td>23196</td>\n",
       "      <td>[vegetable oil cooking spray, egg whites, apri...</td>\n",
       "      <td>french</td>\n",
       "    </tr>\n",
       "    <tr>\n",
       "      <th>16</th>\n",
       "      <td>35387</td>\n",
       "      <td>[vanilla ice cream, banana liqueur, bananas, p...</td>\n",
       "      <td>southern_us</td>\n",
       "    </tr>\n",
       "    <tr>\n",
       "      <th>17</th>\n",
       "      <td>33780</td>\n",
       "      <td>[molasses, hot sauce, baked beans, Grey Poupon...</td>\n",
       "      <td>southern_us</td>\n",
       "    </tr>\n",
       "    <tr>\n",
       "      <th>18</th>\n",
       "      <td>19001</td>\n",
       "      <td>[chopped green chilies, sour cream, cheddar ch...</td>\n",
       "      <td>mexican</td>\n",
       "    </tr>\n",
       "    <tr>\n",
       "      <th>19</th>\n",
       "      <td>16526</td>\n",
       "      <td>[cold water, chicken drumsticks, chicken thigh...</td>\n",
       "      <td>southern_us</td>\n",
       "    </tr>\n",
       "  </tbody>\n",
       "</table>\n",
       "</div>"
      ],
      "text/plain": [
       "       id                                        ingredients       cuisine\n",
       "0   18009  [baking powder, eggs, all-purpose flour, raisi...       british\n",
       "1   28583  [sugar, egg yolks, corn starch, cream of tarta...   southern_us\n",
       "2   41580  [sausage links, fennel bulb, fronds, olive oil...       italian\n",
       "3   29752  [meat cuts, file powder, smoked sausage, okra,...  cajun_creole\n",
       "4   35687  [ground black pepper, salt, sausage casings, l...       italian\n",
       "5   38527  [baking powder, all-purpose flour, peach slice...   southern_us\n",
       "6   19666             [grape juice, orange, white zinfandel]       italian\n",
       "7   41217  [ground ginger, white pepper, green onions, or...       chinese\n",
       "8   28753  [diced onions, taco seasoning mix, all-purpose...       mexican\n",
       "9   22659  [eggs, cherries, dates, dark muscovado sugar, ...       british\n",
       "10  21749  [pasta, olive oil, crushed red pepper, cherry ...       italian\n",
       "11  44967  [water, butter, ground sumac, ground lamb, gro...         greek\n",
       "12  42969  [curry powder, ground cumin, chicken wings, ch...        indian\n",
       "13  44883  [pasta, marinara sauce, dried basil, chicken f...       italian\n",
       "14  20827  [salt, custard powder, white sugar, eggs, marg...   southern_us\n",
       "15  23196  [vegetable oil cooking spray, egg whites, apri...        french\n",
       "16  35387  [vanilla ice cream, banana liqueur, bananas, p...   southern_us\n",
       "17  33780  [molasses, hot sauce, baked beans, Grey Poupon...   southern_us\n",
       "18  19001  [chopped green chilies, sour cream, cheddar ch...       mexican\n",
       "19  16526  [cold water, chicken drumsticks, chicken thigh...   southern_us"
      ]
     },
     "execution_count": 46,
     "metadata": {},
     "output_type": "execute_result"
    }
   ],
   "source": [
    "clf = LogisticRegression()\n",
    "lr = clf.fit(X_train, y_train)\n",
    "predictions = lr.predict(X_test)\n",
    "print('Predictions: ', predictions)\n",
    "test['cuisine'] = predictions\n",
    "test.head(20)"
   ]
  },
  {
   "cell_type": "code",
   "execution_count": 52,
   "metadata": {
    "ExecuteTime": {
     "end_time": "2019-11-26T03:16:59.618109Z",
     "start_time": "2019-11-26T03:16:50.313318Z"
    }
   },
   "outputs": [
    {
     "name": "stdout",
     "output_type": "stream",
     "text": [
      "Naive Bayes:  0.6711502199874293\n",
      "Logistic Regression:  0.774732872407291\n",
      "SVM:  0.7905719673161533\n"
     ]
    }
   ],
   "source": [
    "from sklearn.naive_bayes import MultinomialNB\n",
    "from sklearn.linear_model import LogisticRegression\n",
    "from sklearn.svm import LinearSVC\n",
    "\n",
    "X_train, X_test, y_train, y_test = train_test_split(training['ingredients'], training['cuisine'], test_size=0.2, random_state=5622)\n",
    "ingredients_corpus = [','.join(x) for x in X_train]\n",
    "x_test_ingredients_corpus = [','.join(x) for x in X_test]\n",
    "\n",
    "vectorizer = TfidfVectorizer(stop_words='english', analyzer='word', ngram_range = ( 1 , 1 ))\n",
    "X_train = vectorizer.fit_transform(ingredients_corpus)\n",
    "X_test = vectorizer.transform(x_test_ingredients_corpus)\n",
    "\n",
    "\n",
    "clf = MultinomialNB().fit(X_train, y_train)\n",
    "clf1 = LogisticRegression().fit(X_train, y_train)\n",
    "clf2 = LinearSVC().fit(X_train, y_train)\n",
    "predict = clf.predict(X_test)\n",
    "predict1 = clf1.predict(X_test)\n",
    "predict2 = clf2.predict(X_test)\n",
    "print('Naive Bayes: ', accuracy_score(y_test,predict))\n",
    "print('Logistic Regression: ', accuracy_score(y_test, predict1))\n",
    "print('SVM: ', accuracy_score(y_test, predict2))"
   ]
  },
  {
   "cell_type": "code",
   "execution_count": 53,
   "metadata": {
    "ExecuteTime": {
     "end_time": "2019-11-26T07:59:43.301818Z",
     "start_time": "2019-11-26T07:59:43.296156Z"
    }
   },
   "outputs": [],
   "source": [
    "from sklearn.base import BaseEstimator\n",
    "class ClfSwitcher(BaseEstimator):\n",
    "    \n",
    "    def __init__(self, estimator=LinearSVC()):\n",
    "        self.estimator = estimator\n",
    "        \n",
    "    def fit(self, X, y=None, **kwargs):\n",
    "        self.estimator.fit(X, y)\n",
    "        return self\n",
    "\n",
    "    def predict(self, X, y=None):\n",
    "        return self.estimator.predict(X)\n",
    "\n",
    "    def predict_proba(self, X):\n",
    "        return self.estimator.predict_proba(X)\n",
    "\n",
    "    def score(self, X, y):\n",
    "        return self.estimator.score(X, y)\n",
    "    \n",
    "    def accuracy(self, y_test, predicted):\n",
    "        return accuracy_score(y_test, predicted)\n",
    "        "
   ]
  },
  {
   "cell_type": "code",
   "execution_count": 62,
   "metadata": {
    "ExecuteTime": {
     "end_time": "2019-11-26T22:22:50.589012Z",
     "start_time": "2019-11-26T22:17:19.587931Z"
    }
   },
   "outputs": [
    {
     "name": "stdout",
     "output_type": "stream",
     "text": [
      "Fitting 5 folds for each of 20 candidates, totalling 100 fits\n"
     ]
    },
    {
     "name": "stderr",
     "output_type": "stream",
     "text": [
      "[Parallel(n_jobs=-1)]: Done  42 tasks      | elapsed:   26.8s\n",
      "[Parallel(n_jobs=-1)]: Done 100 out of 100 | elapsed:  5.5min finished\n"
     ]
    },
    {
     "name": "stdout",
     "output_type": "stream",
     "text": [
      "Accuracy Score:  0.7905719673161533\n"
     ]
    }
   ],
   "source": [
    "from sklearn.feature_extraction.text import TfidfVectorizer\n",
    "from sklearn.naive_bayes import MultinomialNB\n",
    "from sklearn.linear_model import SGDClassifier\n",
    "from sklearn.pipeline import Pipeline\n",
    "from sklearn.model_selection import GridSearchCV\n",
    "\n",
    "pipeline = Pipeline([\n",
    "    ('clf', LinearSVC())\n",
    "])\n",
    "\n",
    "parameters = [\n",
    "#     {\n",
    "#         'clf__estimator': [SGDClassifier()], # SVM if hinge loss / logreg if log loss\n",
    "# #         'clf__estimator__penalty': ('l2', 'elasticnet', 'l1'),\n",
    "# #         'clf__estimator__max_iter': [50, 80],\n",
    "#         'clf__estimator__tol': [1e-4],\n",
    "#         'clf__estimator__loss': ['hinge', 'log', 'modified_huber'],\n",
    "#     },\n",
    "#     {\n",
    "#         'clf__estimator': [MultinomialNB()],\n",
    "#         'clf__estimator__alpha': (1e-2, 1e-3, 1e-1),\n",
    "#     },\n",
    "      {\n",
    "#          'clf__estimator': [LinearSVC()],\n",
    "        'clf__dual': [True, False],\n",
    "        'clf__tol': [1e-4],\n",
    "        'clf__C': [0.001, 0.01, 0.1, 1, 10],\n",
    "        'clf__multi_class': ['ovr', 'crammer_singer']\n",
    "\n",
    "    }\n",
    "]\n",
    "\n",
    "gscv = GridSearchCV(pipeline, parameters, cv=5, n_jobs=-1, verbose=1)\n",
    "gscv.fit(X_train, y_train)\n",
    "predictions = gscv.predict(X_test)\n",
    "print('Accuracy Score: ', accuracy_score(y_test, predictions))"
   ]
  },
  {
   "cell_type": "code",
   "execution_count": null,
   "metadata": {},
   "outputs": [],
   "source": []
  }
 ],
 "metadata": {
  "hide_input": false,
  "kernelspec": {
   "display_name": "Python 3",
   "language": "python",
   "name": "python3"
  },
  "latex_envs": {
   "LaTeX_envs_menu_present": true,
   "autoclose": false,
   "autocomplete": true,
   "bibliofile": "biblio.bib",
   "cite_by": "apalike",
   "current_citInitial": 1,
   "eqLabelWithNumbers": true,
   "eqNumInitial": 1,
   "hotkeys": {
    "equation": "Ctrl-E",
    "itemize": "Ctrl-I"
   },
   "labels_anchors": false,
   "latex_user_defs": false,
   "report_style_numbering": false,
   "user_envs_cfg": false
  },
  "nbTranslate": {
   "displayLangs": [
    "*"
   ],
   "hotkey": "alt-t",
   "langInMainMenu": true,
   "sourceLang": "en",
   "targetLang": "fr",
   "useGoogleTranslate": true
  },
  "toc": {
   "base_numbering": 1,
   "nav_menu": {},
   "number_sections": true,
   "sideBar": true,
   "skip_h1_title": false,
   "title_cell": "Table of Contents",
   "title_sidebar": "Contents",
   "toc_cell": false,
   "toc_position": {},
   "toc_section_display": true,
   "toc_window_display": false
  },
  "varInspector": {
   "cols": {
    "lenName": 16,
    "lenType": 16,
    "lenVar": 40
   },
   "kernels_config": {
    "python": {
     "delete_cmd_postfix": "",
     "delete_cmd_prefix": "del ",
     "library": "var_list.py",
     "varRefreshCmd": "print(var_dic_list())"
    },
    "r": {
     "delete_cmd_postfix": ") ",
     "delete_cmd_prefix": "rm(",
     "library": "var_list.r",
     "varRefreshCmd": "cat(var_dic_list()) "
    }
   },
   "types_to_exclude": [
    "module",
    "function",
    "builtin_function_or_method",
    "instance",
    "_Feature"
   ],
   "window_display": false
  }
 },
 "nbformat": 4,
 "nbformat_minor": 2
}
