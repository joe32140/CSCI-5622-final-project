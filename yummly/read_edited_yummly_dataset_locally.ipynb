{
 "cells": [
  {
   "cell_type": "code",
   "execution_count": 10,
   "metadata": {},
   "outputs": [],
   "source": [
    "import matplotlib.pyplot as plt\n",
    "from matplotlib.pyplot import imshow\n",
    "from IPython.display import Image, display\n",
    "\n",
    "import pandas as pd\n",
    "import numpy as np\n",
    "import json\n",
    "%matplotlib notebook"
   ]
  },
  {
   "cell_type": "code",
   "execution_count": 11,
   "metadata": {},
   "outputs": [
    {
     "data": {
      "text/html": [
       "<div>\n",
       "<style scoped>\n",
       "    .dataframe tbody tr th:only-of-type {\n",
       "        vertical-align: middle;\n",
       "    }\n",
       "\n",
       "    .dataframe tbody tr th {\n",
       "        vertical-align: top;\n",
       "    }\n",
       "\n",
       "    .dataframe thead th {\n",
       "        text-align: right;\n",
       "    }\n",
       "</style>\n",
       "<table border=\"1\" class=\"dataframe\">\n",
       "  <thead>\n",
       "    <tr style=\"text-align: right;\">\n",
       "      <th></th>\n",
       "      <th>name</th>\n",
       "      <th>cuisine</th>\n",
       "      <th>ingredients</th>\n",
       "      <th>id_meta</th>\n",
       "      <th>id_data_records</th>\n",
       "      <th>number</th>\n",
       "    </tr>\n",
       "  </thead>\n",
       "  <tbody>\n",
       "    <tr>\n",
       "      <th>0</th>\n",
       "      <td>Mushroom Risotto</td>\n",
       "      <td>['Italian']</td>\n",
       "      <td>['2 cups Baby Bella mushrooms, sliced', '2 cup...</td>\n",
       "      <td>Mushroom-risotto-352492</td>\n",
       "      <td>Mushroom-risotto-352492</td>\n",
       "      <td>1</td>\n",
       "    </tr>\n",
       "    <tr>\n",
       "      <th>1</th>\n",
       "      <td>Filipino BBQ Pork Skewers</td>\n",
       "      <td>['Barbecue']</td>\n",
       "      <td>['2.5 lb pork country style ribs, all fat trim...</td>\n",
       "      <td>Filipino-bbq-pork-skewers-352163</td>\n",
       "      <td>Filipino-bbq-pork-skewers-352163</td>\n",
       "      <td>2</td>\n",
       "    </tr>\n",
       "    <tr>\n",
       "      <th>2</th>\n",
       "      <td>Mushroom and Roasted Garlic Risotto</td>\n",
       "      <td>['Italian']</td>\n",
       "      <td>['2 whole garlic heads', '2 tablespoons plus 2...</td>\n",
       "      <td>Mushroom-and-Roasted-Garlic-Risotto-525026</td>\n",
       "      <td>Mushroom-and-Roasted-Garlic-Risotto-525026</td>\n",
       "      <td>3</td>\n",
       "    </tr>\n",
       "    <tr>\n",
       "      <th>3</th>\n",
       "      <td>Gratin Dauphinois (Scalloped Potatoes with Che...</td>\n",
       "      <td>['French', 'American']</td>\n",
       "      <td>['1 garlic clove, halved', 'Cooking spray', '6...</td>\n",
       "      <td>Gratin-Dauphinois-_scalloped-Potatoes-With-Che...</td>\n",
       "      <td>Gratin-Dauphinois-_scalloped-Potatoes-With-Che...</td>\n",
       "      <td>4</td>\n",
       "    </tr>\n",
       "    <tr>\n",
       "      <th>4</th>\n",
       "      <td>Delicious Grilled Hamburgers</td>\n",
       "      <td>['Barbecue']</td>\n",
       "      <td>['1 pound lean ground beef', '1 tablespoon Wor...</td>\n",
       "      <td>Delicious-Grilled-Hamburgers-Allrecipes</td>\n",
       "      <td>Delicious-Grilled-Hamburgers-Allrecipes</td>\n",
       "      <td>5</td>\n",
       "    </tr>\n",
       "  </tbody>\n",
       "</table>\n",
       "</div>"
      ],
      "text/plain": [
       "                                                name                 cuisine  \\\n",
       "0                                   Mushroom Risotto             ['Italian']   \n",
       "1                          Filipino BBQ Pork Skewers            ['Barbecue']   \n",
       "2                Mushroom and Roasted Garlic Risotto             ['Italian']   \n",
       "3  Gratin Dauphinois (Scalloped Potatoes with Che...  ['French', 'American']   \n",
       "4                       Delicious Grilled Hamburgers            ['Barbecue']   \n",
       "\n",
       "                                         ingredients  \\\n",
       "0  ['2 cups Baby Bella mushrooms, sliced', '2 cup...   \n",
       "1  ['2.5 lb pork country style ribs, all fat trim...   \n",
       "2  ['2 whole garlic heads', '2 tablespoons plus 2...   \n",
       "3  ['1 garlic clove, halved', 'Cooking spray', '6...   \n",
       "4  ['1 pound lean ground beef', '1 tablespoon Wor...   \n",
       "\n",
       "                                             id_meta  \\\n",
       "0                            Mushroom-risotto-352492   \n",
       "1                   Filipino-bbq-pork-skewers-352163   \n",
       "2         Mushroom-and-Roasted-Garlic-Risotto-525026   \n",
       "3  Gratin-Dauphinois-_scalloped-Potatoes-With-Che...   \n",
       "4            Delicious-Grilled-Hamburgers-Allrecipes   \n",
       "\n",
       "                                     id_data_records  number  \n",
       "0                            Mushroom-risotto-352492       1  \n",
       "1                   Filipino-bbq-pork-skewers-352163       2  \n",
       "2         Mushroom-and-Roasted-Garlic-Risotto-525026       3  \n",
       "3  Gratin-Dauphinois-_scalloped-Potatoes-With-Che...       4  \n",
       "4            Delicious-Grilled-Hamburgers-Allrecipes       5  "
      ]
     },
     "execution_count": 11,
     "metadata": {},
     "output_type": "execute_result"
    }
   ],
   "source": [
    "df = pd.read_csv('yummly.csv')\n",
    "df.head()"
   ]
  },
  {
   "cell_type": "code",
   "execution_count": 12,
   "metadata": {},
   "outputs": [
    {
     "data": {
      "text/plain": [
       "(27638, 6)"
      ]
     },
     "execution_count": 12,
     "metadata": {},
     "output_type": "execute_result"
    }
   ],
   "source": [
    "df.shape"
   ]
  },
  {
   "cell_type": "code",
   "execution_count": null,
   "metadata": {},
   "outputs": [],
   "source": []
  }
 ],
 "metadata": {
  "kernelspec": {
   "display_name": "Python 3",
   "language": "python",
   "name": "python3"
  },
  "language_info": {
   "codemirror_mode": {
    "name": "ipython",
    "version": 3
   },
   "file_extension": ".py",
   "mimetype": "text/x-python",
   "name": "python",
   "nbconvert_exporter": "python",
   "pygments_lexer": "ipython3",
   "version": "3.6.9"
  }
 },
 "nbformat": 4,
 "nbformat_minor": 2
}
