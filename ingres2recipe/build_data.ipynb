{
 "cells": [
  {
   "cell_type": "code",
   "execution_count": 17,
   "metadata": {},
   "outputs": [],
   "source": [
    "import matplotlib.pyplot as plt\n",
    "import pandas as pd\n",
    "import numpy as np\n",
    "import json\n",
    "from matplotlib.pyplot import imshow\n",
    "from IPython.display import Image, display\n",
    "from shutil import copyfile\n",
    "\n",
    "import os \n",
    "import sys"
   ]
  },
  {
   "cell_type": "code",
   "execution_count": 18,
   "metadata": {},
   "outputs": [
    {
     "name": "stdout",
     "output_type": "stream",
     "text": "3971 3971 3971\n"
    }
   ],
   "source": [
    "ingr_df = pd.read_json('small_det_ingrs.json')\n",
    "df1 = pd.read_json('small_layer1.json')\n",
    "df2 = pd.read_json('small_layer2.json')\n",
    "print(len(ingr_df), len(df1), len(df2))"
   ]
  },
  {
   "cell_type": "code",
   "execution_count": 19,
   "metadata": {},
   "outputs": [
    {
     "data": {
      "text/plain": "ingredients     [{'text': '1 (6- to 6 1/2-pound) whole beef te...\ninstructions    [{'text': 'Heat oven to 500F with rack in midd...\npartition                                                   train\nrecipe_id                                              00120e65ba\ntitle           Rosemary-Crumb Beef Tenderloin with Pancetta-R...\nurl             http://www.epicurious.com/recipes/food/views/r...\nName: 0, dtype: object"
     },
     "execution_count": 19,
     "metadata": {},
     "output_type": "execute_result"
    }
   ],
   "source": [
    "df1.iloc[0]"
   ]
  },
  {
   "cell_type": "code",
   "execution_count": 20,
   "metadata": {},
   "outputs": [
    {
     "name": "stdout",
     "output_type": "stream",
     "text": "0\n100\n200\n300\n400\n500\n600\n700\n800\n900\n1000\n1100\n1200\n1300\n1400\n1500\n1600\n1700\n1800\n1900\n2000\n2100\n2200\n2300\n2400\n2500\n2600\n2700\n2800\n2900\n3000\n3100\n3200\n3300\n3400\n3500\n3600\n3700\n3800\n3900\n"
    }
   ],
   "source": [
    "output = {\"train\":[], \"val\":[], \"test\":[]}\n",
    "\n",
    "for index, row in df2.iterrows():\n",
    "    if index % 100 ==0:\n",
    "        print(index)\n",
    "    recipe_id = row['recipe_id']\n",
    "    images = row['images']\n",
    "    try:\n",
    "        valid = ingr_df[ingr_df['recipe_id']==recipe_id]['valid'].iloc[0]\n",
    "        ingrs = ingr_df[ingr_df['recipe_id']==recipe_id]['ingredients'].iloc[0]\n",
    "    except:\n",
    "        continue\n",
    "    ingrs_list = []\n",
    "    for v, ing in zip(valid, ingrs):\n",
    "        if v:\n",
    "            ingrs_list.append(ing['text'])\n",
    "\n",
    "    parent_dir = df1[df1.recipe_id==recipe_id]['partition'].to_string(index=False)\n",
    "    recipe = df1[df1.recipe_id==recipe_id]['instructions'].iloc[0]\n",
    "    recipe = \" \".join([r['text'] for r in recipe])\n",
    "    parent_dir = parent_dir.replace(' ', '')\n",
    "    output[parent_dir].append([recipe_id, recipe, ingrs_list])"
   ]
  },
  {
   "cell_type": "code",
   "execution_count": 21,
   "metadata": {},
   "outputs": [
    {
     "name": "stdout",
     "output_type": "stream",
     "text": "2781 618 572\n"
    }
   ],
   "source": [
    "print(len(output['train']), len(output['val']), len(output['test']))"
   ]
  },
  {
   "cell_type": "code",
   "execution_count": 22,
   "metadata": {},
   "outputs": [],
   "source": [
    "for key, value in output.items():\n",
    "    json.dump(value, open(key+\".json\", 'w'), indent=4)\n"
   ]
  },
  {
   "cell_type": "code",
   "execution_count": null,
   "metadata": {},
   "outputs": [],
   "source": []
  }
 ],
 "metadata": {
  "kernelspec": {
   "display_name": "Python 3",
   "language": "python",
   "name": "python3"
  },
  "language_info": {
   "codemirror_mode": {
    "name": "ipython",
    "version": 3
   },
   "file_extension": ".py",
   "mimetype": "text/x-python",
   "name": "python",
   "nbconvert_exporter": "python",
   "pygments_lexer": "ipython3",
   "version": "3.7.3"
  }
 },
 "nbformat": 4,
 "nbformat_minor": 2
}