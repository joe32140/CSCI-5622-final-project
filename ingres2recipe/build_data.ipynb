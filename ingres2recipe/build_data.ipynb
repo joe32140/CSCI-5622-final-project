{
 "cells": [
  {
   "cell_type": "code",
   "execution_count": 1,
   "metadata": {},
   "outputs": [],
   "source": [
    "import matplotlib.pyplot as plt\n",
    "import pandas as pd\n",
    "import numpy as np\n",
    "import json\n",
    "from matplotlib.pyplot import imshow\n",
    "from IPython.display import Image, display\n",
    "from shutil import copyfile\n",
    "\n",
    "import os \n",
    "import sys"
   ]
  },
  {
   "cell_type": "code",
   "execution_count": 2,
   "metadata": {},
   "outputs": [
    {
     "name": "stdout",
     "output_type": "stream",
     "text": "3971 3971 3971\n"
    }
   ],
   "source": [
    "ingr_df = pd.read_json('small_det_ingrs.json')\n",
    "#df1 = pd.read_json('small_layer1.json')\n",
    "df1 = pd.read_json('whats-cooking/1M_with_cuisine.json')\n",
    "df2 = pd.read_json('small_layer2.json')\n",
    "print(len(ingr_df), len(df1), len(df2))"
   ]
  },
  {
   "cell_type": "code",
   "execution_count": 4,
   "metadata": {},
   "outputs": [
    {
     "data": {
      "text/plain": "ingredients     [{'text': '4 cups milk'}, {'text': '1/2 cup wh...\ninstructions    [{'text': 'Stir milk, sugar, and cornstarch to...\npartition                                                   train\nrecipe_id                                              001c80708e\ntitle                                     Quick Chocolate Pudding\nurl             http://allrecipes.com/recipe/quick-chocolate-p...\ncuisine                                                    french\nName: 1, dtype: object"
     },
     "execution_count": 4,
     "metadata": {},
     "output_type": "execute_result"
    }
   ],
   "source": [
    "df1.iloc[1]"
   ]
  },
  {
   "cell_type": "code",
   "execution_count": 29,
   "metadata": {},
   "outputs": [
    {
     "name": "stdout",
     "output_type": "stream",
     "text": "0\n100\n200\n300\n400\n500\n600\n700\n800\n900\n1000\n1100\n1200\n1300\n1400\n1500\n1600\n1700\n1800\n1900\n2000\n2100\n2200\n2300\n2400\n2500\n2600\n2700\n2800\n2900\n3000\n3100\n3200\n3300\n3400\n3500\n3600\n3700\n3800\n3900\n"
    }
   ],
   "source": [
    "output = {\"train\":[], \"val\":[], \"test\":[]}\n",
    "\n",
    "for index, row in df2.iterrows():\n",
    "    if index % 100 ==0:\n",
    "        print(index)\n",
    "    recipe_id = row['recipe_id']\n",
    "    images = row['images']\n",
    "    try:\n",
    "        valid = ingr_df[ingr_df['recipe_id']==recipe_id]['valid'].iloc[0]\n",
    "        ingrs = ingr_df[ingr_df['recipe_id']==recipe_id]['ingredients'].iloc[0]\n",
    "    except:\n",
    "        continue\n",
    "    ingrs_list = []\n",
    "    for v, ing in zip(valid, ingrs):\n",
    "        if v:\n",
    "            ingrs_list.append(ing['text'])\n",
    "\n",
    "    parent_dir = df1[df1.recipe_id==recipe_id]['partition'].to_string(index=False)\n",
    "    recipe = df1[df1.recipe_id==recipe_id]['instructions'].iloc[0]\n",
    "    cuisine = df1[df1.recipe_id==recipe_id]['cuisine'].iloc[0]\n",
    "    recipe = \" \".join([r['text'] for r in recipe])\n",
    "    parent_dir = parent_dir.replace(' ', '')\n",
    "    output[parent_dir].append([recipe_id, recipe, ingrs_list, cuisine])"
   ]
  },
  {
   "cell_type": "code",
   "execution_count": 30,
   "metadata": {},
   "outputs": [
    {
     "name": "stdout",
     "output_type": "stream",
     "text": "2781 618 572\n"
    }
   ],
   "source": [
    "print(len(output['train']), len(output['val']), len(output['test']))"
   ]
  },
  {
   "cell_type": "code",
   "execution_count": 31,
   "metadata": {},
   "outputs": [],
   "source": [
    "for key, value in output.items():\n",
    "    json.dump(value, open(\"ingres2recipe/\"+key+\".json\", 'w'), indent=4)\n"
   ]
  },
  {
   "cell_type": "code",
   "execution_count": 16,
   "metadata": {},
   "outputs": [],
   "source": [
    "import json\n",
    "from collections import Counter\n",
    "counter = Counter()\n",
    "train = json.load(open('ingres2recipe/train.json'))\n",
    "for data in train:\n",
    "    #ingres = \" \".join(data[2]).split(\" \")\n",
    "    counter.update(data[2])"
   ]
  },
  {
   "cell_type": "code",
   "execution_count": 24,
   "metadata": {},
   "outputs": [
    {
     "name": "stdout",
     "output_type": "stream",
     "text": "[('salt', 900), ('butter', 660), ('sugar', 563), ('olive oil', 465), ('eggs', 396), ('water', 392), ('garlic cloves', 370), ('all - purpose flour', 325), ('milk', 323), ('onion', 248), ('flour', 214), ('baking powder', 212), ('vanilla extract', 207), ('egg', 207), ('brown sugar', 205), ('onions', 187), ('salt and pepper', 180), ('unsalted butter', 177), ('vegetable oil', 165), ('pepper', 164), ('baking soda', 162), ('parmesan cheese', 155), ('lemon juice', 142), ('kosher salt', 141), ('carrots', 139), ('black pepper', 136), ('tomatoes', 136), ('vanilla', 135), ('garlic clove', 135), ('ground cinnamon', 129), ('honey', 125), ('soy sauce', 124), ('white sugar', 123), ('garlic powder', 120), ('green onions', 114), ('sour cream', 114), ('cream cheese', 111), ('cinnamon', 109), ('granulated sugar', 107), ('oil', 107), ('garlic', 101), ('fresh ground black pepper', 98), ('bacon', 93), ('mayonnaise', 90), ('ground black pepper', 89), ('heavy cream', 89), ('chicken broth', 83), ('celery', 82), ('cornstarch', 79), ('paprika', 79)]\n"
    }
   ],
   "source": [
    "print(counter.most_common()[:50])\n"
   ]
  },
  {
   "cell_type": "code",
   "execution_count": 34,
   "metadata": {},
   "outputs": [
    {
     "data": {
      "text/plain": "array(['italian', 'french', 'british', 'indian', 'southern_us', 'mexican',\n       'chinese', 'thai', 'cajun_creole', 'brazilian', 'greek',\n       'japanese', 'spanish', 'irish', 'moroccan', 'korean', 'jamaican',\n       'vietnamese', 'russian'], dtype=object)"
     },
     "execution_count": 34,
     "metadata": {},
     "output_type": "execute_result"
    }
   ],
   "source": [
    "pd.DataFrame(output['train'])[3].unique()"
   ]
  },
  {
   "cell_type": "code",
   "execution_count": null,
   "metadata": {},
   "outputs": [],
   "source": []
  },
  {
   "cell_type": "code",
   "execution_count": 35,
   "metadata": {},
   "outputs": [
    {
     "data": {
      "text/plain": "{'italian': 0,\n 'french': 1,\n 'british': 2,\n 'indian': 3,\n 'southern_us': 4,\n 'mexican': 5,\n 'chinese': 6,\n 'thai': 7,\n 'cajun_creole': 8,\n 'brazilian': 9,\n 'greek': 10,\n 'japanese': 11,\n 'spanish': 12,\n 'irish': 13,\n 'moroccan': 14,\n 'korean': 15,\n 'jamaican': 16,\n 'vietnamese': 17,\n 'russian': 18}"
     },
     "execution_count": 35,
     "metadata": {},
     "output_type": "execute_result"
    }
   ],
   "source": [
    "{c:i for i, c in enumerate(['italian', 'french', 'british', 'indian', 'southern_us', 'mexican',\n",
    "       'chinese', 'thai', 'cajun_creole', 'brazilian', 'greek',\n",
    "       'japanese', 'spanish', 'irish', 'moroccan', 'korean', 'jamaican',\n",
    "       'vietnamese', 'russian'])}"
   ]
  },
  {
   "cell_type": "code",
   "execution_count": null,
   "metadata": {},
   "outputs": [],
   "source": []
  }
 ],
 "metadata": {
  "kernelspec": {
   "display_name": "Python 3",
   "language": "python",
   "name": "python3"
  },
  "language_info": {
   "codemirror_mode": {
    "name": "ipython",
    "version": 3
   },
   "file_extension": ".py",
   "mimetype": "text/x-python",
   "name": "python",
   "nbconvert_exporter": "python",
   "pygments_lexer": "ipython3",
   "version": "3.7.3"
  }
 },
 "nbformat": 4,
 "nbformat_minor": 2
}