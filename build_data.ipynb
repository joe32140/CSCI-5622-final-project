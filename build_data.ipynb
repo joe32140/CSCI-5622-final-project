{
 "cells": [
  {
   "cell_type": "code",
   "execution_count": 61,
   "metadata": {},
   "outputs": [],
   "source": [
    "import matplotlib.pyplot as plt\n",
    "import pandas as pd\n",
    "import numpy as np\n",
    "import json\n",
    "from matplotlib.pyplot import imshow\n",
    "from IPython.display import Image, display\n",
    "from shutil import copyfile\n",
    "\n",
    "import os \n",
    "import sys"
   ]
  },
  {
   "cell_type": "code",
   "execution_count": 72,
   "metadata": {},
   "outputs": [
    {
     "name": "stdout",
     "output_type": "stream",
     "text": "3971 3971 3971\n"
    }
   ],
   "source": [
    "f = open('./ml_project/small_layer1.json', 'r')\n",
    "layer1 = json.load(f)\n",
    "\n",
    "f = open('./ml_project/small_layer2.json', 'r')\n",
    "layer2 = json.load(f)\n",
    "\n",
    "ingr_df = pd.read_json('ml_project/small_det_ingrs.json')\n",
    "df1 = pd.read_json('./ml_project/small_layer1.json')\n",
    "df2 = pd.read_json('./ml_project/small_layer2.json')\n",
    "print(len(ingr_df), len(df1), len(df2))"
   ]
  },
  {
   "cell_type": "code",
   "execution_count": 84,
   "metadata": {},
   "outputs": [],
   "source": [
    "import os\n",
    "from PIL import Image\n",
    "import urllib.request\n",
    "import urllib.parse\n",
    "ORIG_PATH = ''\n",
    "NEW_PATH = 'small_'\n",
    "\n",
    "def filename_to_subdir(image_id):\n",
    "    dirs = list(image_id[:4])\n",
    "    return os.path.join(*dirs)\n",
    "\n",
    "\n",
    "def get_image_feature(image, parent_dir):\n",
    "    filename = image['id']\n",
    "    sub_directory = filename_to_subdir(filename)\n",
    "\n",
    "    directory = os.path.join(parent_dir, sub_directory)\n",
    "    new_directory = NEW_PATH + directory\n",
    "    filepath = os.path.join(\"ml_project\", NEW_PATH+parent_dir, new_directory, filename)\n",
    "    dir_filepath = os.path.join(\"ml_project\", NEW_PATH+parent_dir, new_directory)\n",
    "    try:\n",
    "        f=open(filepath, 'r+b')\n",
    "    except FileNotFoundError:\n",
    "        if not os.path.exists(dir_filepath):\n",
    "            os.makedirs(dir_filepath)\n",
    "        try:\n",
    "            urllib.request.urlretrieve(urllib.parse.quote(image['url']), filepath)\n",
    "            f=open(filepath, 'r+b')\n",
    "        except:\n",
    "            print(image['url'])\n",
    "            return None\n",
    "    try:\n",
    "        with Image.open(f) as img:\n",
    "            img = resize_image(img, [256, 256]) #resize to 256,256\n",
    "    except:\n",
    "        return None\n",
    "\n",
    "    pixels = np.asarray(img)\n",
    "    # convert from integers to floats\n",
    "    pixels = pixels.astype('float32')\n",
    "    # normalize to the range 0-1\n",
    "    pixels /= 255.0\n",
    "    return pixels.reshape((-1,))\n",
    "\n",
    "def resize_image(image, size):\n",
    "    \"\"\"Resize an image to the given size.\"\"\"\n",
    "    return image.resize(size, Image.ANTIALIAS)\n",
    "\n"
   ]
  },
  {
   "cell_type": "code",
   "execution_count": 89,
   "metadata": {},
   "outputs": [
    {
     "name": "stdout",
     "output_type": "stream",
     "text": "ttp://img.sndimg.com/food/image/upload/w_512,h_512,c_fit,fl_progressive,q_95/v1/img/recipes/82/56/2/piczHtUyB.jpg\nhttp://img.sndimg.com/food/image/upload/w_512,h_512,c_fit,fl_progressive,q_95/v1/img/recipes/82/56/2/picnGb657.jpg\nhttp://img.sndimg.com/food/image/upload/w_512,h_512,c_fit,fl_progressive,q_95/v1/img/recipes/82/56/2/pici3ZzQh.jpg\nhttp://img.sndimg.com/food/image/upload/w_512,h_512,c_fit,fl_progressive,q_95/v1/img/recipes/48/15/88/picsKdlOQ.jpg\nhttp://img.sndimg.com/food/image/upload/w_512,h_512,c_fit,fl_progressive,q_95/v1/img/recipes/85/05/2/picVC9wbp.jpg\nhttp://img.sndimg.com/food/image/upload/w_512,h_512,c_fit,fl_progressive,q_95/v1/img/recipes/85/05/2/picA2cTFc.jpg\nhttps://img-global.cpcdn.com/001_recipes/5352046250164224/0x0/photo.jpg\nhttp://tastykitchen.com/recipes/wp-content/uploads/sites/2/2012/06/Black-Bottom-Cookie-Bars-410x273.jpg\nhttp://img.sndimg.com/food/image/upload/w_512,h_512,c_fit,fl_progressive,q_95/v1/img/recipes/12/25/15/pick2ZCZg.jpg\nhttp://img.sndimg.com/food/image/upload/w_512,h_512,c_fit,fl_progressive,q_95/v1/img/recipes/12/25/15/picDtG5oU.jpg\nhttp://img.sndimg.com/food/image/upload/w_512,h_512,c_fit,fl_progressive,q_95/v1/img/recipes/12/25/15/picYDPeuY.jpg\nhttp://img.sndimg.com/food/image/upload/w_512,h_512,c_fit,fl_progressive,q_95/v1/img/recipes/12/25/15/picMS5uGz.jpg\nhttp://img.sndimg.com/food/image/upload/w_512,h_512,c_fit,fl_progressive,q_95/v1/img/recipes/27/97/02/picDV49lF.jpg\nhttp://tastykitchen.com/recipes/wp-content/uploads/sites/2/2012/09/IMG_3166edited-410x356.jpg\nhttp://img.sndimg.com/food/image/upload/w_512,h_512,c_fit,fl_progressive,q_95/v1/img/recipes/29/87/28/picx9q4b3.jpg\nhttp://search.chow.com/thumbnail/1280/800/www.chowstatic.com/assets/2006/09/rcp_bakedziti_290x210.jpg\nhttp://img.sndimg.com/food/image/upload/w_512,h_512,c_fit,fl_progressive,q_95/v1/img/recipes/32/31/24/picVVdg1p.jpg\nhttp://images.media-allrecipes.com/userphotos/256x256/1712840.jpg\nhttp://images.media-allrecipes.com/userphotos/256x256/1658887.jpg\nhttp://images.media-allrecipes.com/userphotos/256x256/1732592.jpg\nhttp://images.media-allrecipes.com/userphotos/256x256/1618595.jpg\nhttp://images.media-allrecipes.com/userphotos/256x256/1641957.jpg\nhttp://images.media-allrecipes.com/userphotos/256x256/1617565.jpg\nhttp://images.media-allrecipes.com/userphotos/256x256/1659092.jpg\nhttp://images.media-allrecipes.com/userphotos/256x256/1640810.jpg\nhttp://images.media-allrecipes.com/userphotos/256x256/1704333.jpg\nhttp://images.media-allrecipes.com/userphotos/256x256/1637120.jpg\nhttp://images.media-allrecipes.com/userphotos/256x256/1477695.jpg\nhttp://images.media-allrecipes.com/userphotos/256x256/1768429.jpg\nhttp://images.media-allrecipes.com/userphotos/256x256/1699264.jpg\nhttp://images.media-allrecipes.com/userphotos/256x256/1665664.jpg\nhttp://images.media-allrecipes.com/userphotos/256x256/1768399.jpg\nhttps://img-global.cpcdn.com/001_recipes/6285751565156352/0x0/photo.jpg\nhttp://cdn-image.foodandwine.com/sites/default/files/recipe1115-xl-spaghetti-with-radish-greens-pesto.jpg\nhttp://cdn-image.foodandwine.com/sites/default/files/201207-xl-honey-lime-strawberries-with-whipped-cream.jpg\nhttp://tastykitchen.com/recipes/wp-content/uploads/sites/2/2011/06/0211-410x307.jpg\nhttp://tastykitchen.com/recipes/wp-content/uploads/sites/2/2010/07/DSC7831v5501.jpg\nhttp://assets.kraftfoods.com/recipe_images/57559.jpg\nhttp://img.sndimg.com/food/image/upload/w_512,h_512,c_fit,fl_progressive,q_95/v1/img/recipes/10/04/34/AWjTIgJ4RhGcY8h2zN27_0607151855a.jpg\nhttp://img.sndimg.com/food/image/upload/w_512,h_512,c_fit,fl_progressive,q_95/v1/img/recipes/10/04/34/NwGvtLsQRGjOgvpHMdcI_0607152028.jpg\nhttp://img.sndimg.com/food/image/upload/w_512,h_512,c_fit,fl_progressive,q_95/v1/img/recipes/10/42/39/picECltw8.jpg\nhttp://img.sndimg.com/food/image/upload/w_512,h_512,c_fit,fl_progressive,q_95/v1/img/recipes/10/42/39/picS4U8Jq.jpg\nhttp://img.sndimg.com/food/image/upload/w_512,h_512,c_fit,fl_progressive,q_95/v1/img/recipes/10/42/39/picYOaUpT.jpg\nhttp://img.sndimg.com/food/image/upload/w_512,h_512,c_fit,fl_progressive,q_95/v1/img/recipes/10/42/39/picHtghLl.jpg\nhttp://img.sndimg.com/food/image/upload/w_512,h_512,c_fit,fl_progressive,q_95/v1/img/recipes/10/42/39/picNm7oGZ.jpg\nhttp://img.sndimg.com/food/image/upload/w_512,h_512,c_fit,fl_progressive,q_95/v1/img/recipes/10/42/39/picvxEait.jpg\nhttp://img.sndimg.com/food/image/upload/w_512,h_512,c_fit,fl_progressive,q_95/v1/img/recipes/10/42/39/picJViOmD.jpg\nhttp://images.media-allrecipes.com/userphotos/256x256/774651.jpg\nhttp://images.media-allrecipes.com/userphotos/256x256/1449878.jpg\nhttp://images.media-allrecipes.com/userphotos/256x256/764613.jpg\nhttp://cdn-image.myrecipes.com/sites/default/files/styles/300x300/public/styles/300x300/public/image/recipes/ck/fruit-salsa-ck-521993-x.jpg?itok=67pU5bVB\nhttp://assets.kraftfoods.com/recipe_images/51065.jpg\nhttp://tastykitchen.com/recipes/wp-content/uploads/sites/2/2010/08/bacon.jpg\n3900\nhttp://img.sndimg.com/food/image/upload/w_512,h_512,c_fit,fl_progressive,q_95/v1/img/recipes/32/85/86/picOaEkkH.jpg\nhttp://img.sndimg.com/food/image/upload/w_512,h_512,c_fit,fl_progressive,q_95/v1/img/recipes/21/88/57/picx8EuII.jpg\nhttp://img.sndimg.com/food/image/upload/w_512,h_512,c_fit,fl_progressive,q_95/v1/img/recipes/21/88/57/pic0RPCEM.jpg\nhttp://img.sndimg.com/food/image/upload/w_512,h_512,c_fit,fl_progressive,q_95/v1/img/recipes/21/88/57/pic5il9pp.jpg\nhttp://img.sndimg.com/food/image/upload/w_512,h_512,c_fit,fl_progressive,q_95/v1/img/recipes/21/88/57/picY3zyYt.jpg\nhttp://img.sndimg.com/food/image/upload/w_512,h_512,c_fit,fl_progressive,q_95/v1/img/recipes/21/88/57/pich7r9W6.jpg\nhttp://img.sndimg.com/food/image/upload/w_512,h_512,c_fit,fl_progressive,q_95/v1/img/recipes/21/88/57/picWestiS.jpg\nhttp://tastykitchen.com/recipes/wp-content/uploads/sites/2/2011/01/003-410x333.jpg\nhttp://assets.kraftfoods.com/recipe_images/opendeploy/135732_640x428.jpg\nhttp://img.sndimg.com/food/image/upload/w_512,h_512,c_fit,fl_progressive,q_95/v1/img/recipes/62/54/2/picmuBkwU.jpg\nhttp://img.sndimg.com/food/image/upload/w_512,h_512,c_fit,fl_progressive,q_95/v1/img/recipes/62/54/2/pic1s0X36.jpg\nhttp://img.sndimg.com/food/image/upload/w_512,h_512,c_fit,fl_progressive,q_95/v1/img/recipes/62/54/2/pictMlQz6.jpg\nhttp://img.sndimg.com/food/image/upload/w_512,h_512,c_fit,fl_progressive,q_95/v1/img/recipes/62/54/2/picPqr8jo.jpg\nhttp://img.sndimg.com/food/image/upload/w_512,h_512,c_fit,fl_progressive,q_95/v1/img/recipes/62/54/2/picTpDtlj.jpg\nhttp://img.sndimg.com/food/image/upload/w_512,h_512,c_fit,fl_progressive,q_95/v1/img/recipes/62/54/2/gW4PdN9XTCiPsifLBSvD_easy-pork-chop-6268.jpg\nhttp://pictures.food.com/api/file/NgkW6008QTOrej1SqAA0-1939778_669720649737942_1783772479_n.jpg/convert?loc=/pictures.food.com/recipes/62/54/2/kI8w4niRS6oEkk7eD584_1939778_669720649737942_1783772479_n.jpg&width=512&height=512&fit=max&flags=progressive&quality=95\nhttp://img.sndimg.com/food/image/upload/w_512,h_512,c_fit,fl_progressive,q_95/v1/img/recipes/62/54/2/ltrtsWlhTGW5GqzZwoFd_easy-pork-chop-6261.jpg\nhttp://img.sndimg.com/food/image/upload/w_512,h_512,c_fit,fl_progressive,q_95/v1/img/recipes/62/54/2/picWzDJal.jpg\nhttp://pictures.food.com/api/file/FdzYh0s3ScWHPL71ELh3-photo-2.JPG/convert?loc=/pictures.food.com/recipes/62/54/2/izdQ0rDHRBqeee34swjp_photo%202.JPG&width=512&height=512&fit=max&flags=progressive&quality=95\nhttp://pictures.food.com/api/file/t9vV9efhSlarRK4mfptU-20140126_171234.jpg/convert?loc=/pictures.food.com/recipes/62/54/2/k5gReoFZQSSlzvzFrCl0_20140126_171234.jpg&rotate=90&width=512&height=512&fit=max&flags=progressive&quality=95\nhttp://img.sndimg.com/food/image/upload/w_512,h_512,c_fit,fl_progressive,q_95/v1/img/recipes/62/54/2/picaWLDP8.jpg\nhttp://img.sndimg.com/food/image/upload/w_512,h_512,c_fit,fl_progressive,q_95/v1/img/recipes/62/54/2/gUCuY79GQIGSui0ubrH7_10208243798232503.jpg\nhttp://img.sndimg.com/food/image/upload/w_512,h_512,c_fit,fl_progressive,q_95/v1/img/recipes/62/54/2/picH0mnPr.jpg\nhttp://img.sndimg.com/food/image/upload/w_512,h_512,c_fit,fl_progressive,q_95/v1/img/recipes/62/54/2/hz6V6uYaTeOKhdZPkeQE_easy-pork-chop-6262.jpg\nhttps://img-global.cpcdn.com/001_recipes/4945882131726336/0x0/photo.jpg\nhttp://img.sndimg.com/food/image/upload/w_512,h_512,c_fit,fl_progressive,q_95/v1/img/recipes/20/20/picjNM9fd.jpg\nhttps://img-global.cpcdn.com/001_recipes/6003839225298944/0x0/photo.jpg\nhttp://img.sndimg.com/food/image/upload/w_512,h_512,c_fit,fl_progressive,q_95/v1/img/recipes/42/21/52/picdWJ4jD.jpg\nhttp://assets.epicurious.com/photos/560dd6f7f3a00aeb2f1d265a/master/pass/233790.jpg\nhttp://www.landolakes.com/assets/images/recipe/orig/16071.jpg\nhttp://images.media-allrecipes.com/userphotos/256x256/22157.jpg\nhttp://images.media-allrecipes.com/userphotos/256x256/1630852.jpg\nhttp://img.sndimg.com/food/image/upload/w_512,h_512,c_fit,fl_progressive,q_95/v1/img/recipes/13/88/77/picofvW21.jpg\nhttp://img.sndimg.com/food/image/upload/w_512,h_512,c_fit,fl_progressive,q_95/v1/img/recipes/10/06/86/picGzJGmu.jpg\nhttp://img.sndimg.com/food/image/upload/w_512,h_512,c_fit,fl_progressive,q_95/v1/img/recipes/10/06/86/picUXvur8.jpg\nhttp://img.sndimg.com/food/image/upload/w_512,h_512,c_fit,fl_progressive,q_95/v1/img/recipes/10/06/86/picHIMeGa.jpg\nhttp://img.sndimg.com/food/image/upload/w_512,h_512,c_fit,fl_progressive,q_95/v1/img/recipes/29/85/99/picLbzvXj.jpg\nhttp://img.sndimg.com/food/image/upload/w_512,h_512,c_fit,fl_progressive,q_95/v1/img/recipes/29/85/99/piciPSDK7.jpg\nhttp://pictures.food.com/api/file/jRPnNBmSQsqXjrxoCXAq-Coleslaw8-26-13-1.jpg/convert?loc=/fdc/20140418/pictures.food.com/recipes/29/84/2/TQ6t4FeuSTKrYSTynYLI_Coleslaw8-26-13%201.jpg&width=512&height=512&fit=max&flags=progressive&quality=95\nhttp://img.sndimg.com/food/image/upload/w_512,h_512,c_fit,fl_progressive,q_95/v1/img/recipes/29/84/2/picl9bnOA.jpg\nhttp://img.sndimg.com/food/image/upload/w_512,h_512,c_fit,fl_progressive,q_95/v1/img/recipes/29/84/2/picFZ0gBZ.jpg\nhttp://tastykitchen.com/recipes/wp-content/uploads/sites/2/2014/01/image2-410x410.jpg\nhttp://tastykitchen.com/recipes/wp-content/uploads/sites/2/2013/03/carrot-cake-muffins-410x229.jpg\nhttps://img-global.cpcdn.com/001_recipes/5377590468018176/0x0/photo.jpg\nhttp://img.sndimg.com/food/image/upload/w_512,h_512,c_fit,fl_progressive,q_95/v1/img/recipes/79/45/pic01oTYP.jpg\nhttp://images.media-allrecipes.com/userphotos/256x256/477799.jpg\nhttp://images.media-allrecipes.com/userphotos/256x256/477797.jpg\nhttp://graphics8.nytimes.com/images/2012/07/11/dining/11CACHACA_SPAN/11CACHACA_SPAN-superJumbo-v2.jpg\nhttp://img.sndimg.com/food/image/upload/w_512,h_512,c_fit,fl_progressive,q_95/v1/img/recipes/45/13/62/pic6b8TWV.jpg\nhttp://img.sndimg.com/food/image/upload/w_512,h_512,c_fit,fl_progressive,q_95/v1/img/recipes/45/13/62/pichY0Wn7.jpg\nhttp://images.media-allrecipes.com/userphotos/256x256/692509.jpg\nhttp://images.media-allrecipes.com/userphotos/256x256/990311.jpg\nhttp://images.media-allrecipes.com/userphotos/256x256/2053523.jpg\nhttp://img.sndimg.com/food/image/upload/w_512,h_512,c_fit,fl_progressive,q_95/v1/img/recipes/22/87/38/picdV5x4R.jpg\nhttp://img.sndimg.com/food/image/upload/w_512,h_512,c_fit,fl_progressive,q_95/v1/img/recipes/22/87/38/pic1zO996.jpg\nhttp://img.sndimg.com/food/image/upload/w_512,h_512,c_fit,fl_progressive,q_95/v1/img/recipes/22/87/38/picBxgtrD.jpg\nhttp://img.sndimg.com/food/image/upload/w_512,h_512,c_fit,fl_progressive,q_95/v1/img/recipes/22/87/38/picDgRrvk.jpg\nhttp://images.media-allrecipes.com/userphotos/256x256/191695.jpg\nhttp://images.media-allrecipes.com/userphotos/256x256/1651392.jpg\nhttp://images.media-allrecipes.com/userphotos/256x256/435387.jpg\nhttp://images.media-allrecipes.com/userphotos/256x256/1651395.jpg\nhttp://images.media-allrecipes.com/userphotos/256x256/601097.jpg\nhttp://images.media-allrecipes.com/userphotos/256x256/779989.jpg\nhttp://images.media-allrecipes.com/userphotos/256x256/2162415.jpg\nhttp://images.media-allrecipes.com/userphotos/256x256/2265606.jpg\nhttp://images.media-allrecipes.com/userphotos/256x256/681357.jpg\nhttp://images.media-allrecipes.com/userphotos/256x256/2064572.jpg\nhttp://img.sndimg.com/food/image/upload/w_512,h_512,c_fit,fl_progressive,q_95/v1/img/recipes/32/12/12/pictdeu8z.jpg\nhttp://img.sndimg.com/food/image/upload/w_512,h_512,c_fit,fl_progressive,q_95/v1/img/recipes/32/12/12/picRHdjyE.jpg\nhttp://images.media-allrecipes.com/userphotos/256x256/989567.jpg\nhttp://images.media-allrecipes.com/userphotos/256x256/970383.jpg\nhttp://img.sndimg.com/food/image/upload/w_512,h_512,c_fit,fl_progressive,q_95/v1/img/recipes/21/21/27/picOxqXdL.jpg\nhttp://img.sndimg.com/food/image/upload/w_512,h_512,c_fit,fl_progressive,q_95/v1/img/recipes/21/21/27/picpxCKgT.jpg\nhttp://img.sndimg.com/food/image/upload/w_512,h_512,c_fit,fl_progressive,q_95/v1/img/recipes/21/21/27/picFOkdyE.jpg\nhttp://img.sndimg.com/food/image/upload/w_512,h_512,c_fit,fl_progressive,q_95/v1/img/recipes/37/77/30/picwCIXGX.jpg\nhttp://img.sndimg.com/food/image/upload/w_512,h_512,c_fit,fl_progressive,q_95/v1/img/recipes/37/77/30/pic500hsk.jpg\nhttp://img.sndimg.com/food/image/upload/w_512,h_512,c_fit,fl_progressive,q_95/v1/img/recipes/10/78/43/picJu6kYz.jpg\nhttps://img-global.cpcdn.com/001_recipes/69913327/0x0/photo.jpg\nhttp://img.sndimg.com/food/image/upload/w_512,h_512,c_fit,fl_progressive,q_95/v1/img/recipes/15/82/48/picaISaAJ.jpg\nhttp://img.sndimg.com/food/image/upload/w_512,h_512,c_fit,fl_progressive,q_95/v1/img/recipes/15/82/48/piczJD9RV.jpg\nhttp://img.sndimg.com/food/image/upload/w_512,h_512,c_fit,fl_progressive,q_95/v1/img/recipes/15/82/48/pic9mvDdL.jpg\nhttp://img.sndimg.com/food/image/upload/w_512,h_512,c_fit,fl_progressive,q_95/v1/img/recipes/15/82/48/picXvg94J.jpg\nhttp://cdn-image.foodandwine.com/sites/default/files/pesto_couscous.jpg\nhttp://img.sndimg.com/food/image/upload/w_512,h_512,c_fit,fl_progressive,q_95/v1/img/recipes/15/91/35/picXdSYCI.jpg\nhttp://img.sndimg.com/food/image/upload/w_512,h_512,c_fit,fl_progressive,q_95/v1/img/recipes/15/91/35/picxH6G4Q.jpg\nhttp://img.sndimg.com/food/image/upload/w_512,h_512,c_fit,fl_progressive,q_95/v1/img/recipes/15/91/35/picU5BCzU.jpg\nhttp://img.sndimg.com/food/image/upload/w_512,h_512,c_fit,fl_progressive,q_95/v1/img/recipes/15/91/35/pic7dYGf6.jpg\nhttp://assets.epicurious.com/photos/5612e5a4928970611e0a7f8c/master/pass/101384.jpg\nhttp://cdn-image.myrecipes.com/sites/default/files/styles/300x300/public/styles/300x300/public/image/recipes/ck/13/10/sweet-potato-chickpea-cakes-avocado-salsa-ck-x.jpg?itok=I8y27iCp\nhttps://img-global.cpcdn.com/001_recipes/23133591/0x0/photo.jpg\nhttp://cdn-image.myrecipes.com/sites/default/files/styles/300x300/public/styles/300x300/public/image/recipes/ck/13/06/arugula-tomato-salad-ck-x.jpg?itok=yc7BUO0e\nhttp://assets.kraftfoods.com/recipe_images/opendeploy/111260_MXM_K55594V1_OR1_CR_640x428.jpg\nhttp://tastykitchen.com/recipes/wp-content/uploads/sites/2/2012/05/pulledchicken2-410x273.jpg\nhttp://img.sndimg.com/food/image/upload/w_512,h_512,c_fit,fl_progressive,q_95/v1/img/recipes/11/64/57/picFvYoFd.jpg\nhttp://img.sndimg.com/food/image/upload/w_512,h_512,c_fit,fl_progressive,q_95/v1/img/recipes/11/64/57/picfiq84J.jpg\nhttp://img.sndimg.com/food/image/upload/w_512,h_512,c_fit,fl_progressive,q_95/v1/img/recipes/11/64/57/piciDUKVk.jpg\nhttp://img.sndimg.com/food/image/upload/w_512,h_512,c_fit,fl_progressive,q_95/v1/img/recipes/11/64/57/picLcwNGs.jpg\nhttp://img.sndimg.com/food/image/upload/w_512,h_512,c_fit,fl_progressive,q_95/v1/img/recipes/11/64/57/picTGnOeK.jpg\nhttp://img.sndimg.com/food/image/upload/w_512,h_512,c_fit,fl_progressive,q_95/v1/img/recipes/11/64/57/pic75j8Os.jpg\nhttp://img.sndimg.com/food/image/upload/w_512,h_512,c_fit,fl_progressive,q_95/v1/img/recipes/11/64/57/picbM3upe.jpg\nhttp://img.sndimg.com/food/image/upload/w_512,h_512,c_fit,fl_progressive,q_95/v1/img/recipes/11/64/57/picsIHNLu.jpg\nhttp://img.sndimg.com/food/image/upload/w_512,h_512,c_fit,fl_progressive,q_95/v1/img/recipes/11/64/57/piczFGJJs.jpg\nhttps://recipeland.com/images/r/15131/e96fd5698af1c6ea3d07_550.jpg\nhttp://tastykitchen.com/recipes/wp-content/uploads/sites/2/2015/01/IMG_3060-410x273.jpg\nhttp://img.sndimg.com/food/image/upload/w_512,h_512,c_fit,fl_progressive,q_95/v1/img/recipes/27/82/15/pic6h4t4a.jpg\nhttp://img.sndimg.com/food/image/upload/w_512,h_512,c_fit,fl_progressive,q_95/v1/img/recipes/27/92/04/picBMeZ36.jpg\nhttp://img.sndimg.com/food/image/upload/w_512,h_512,c_fit,fl_progressive,q_95/v1/img/recipes/27/92/04/picTagfyZ.jpg\nhttp://img.sndimg.com/food/image/upload/w_512,h_512,c_fit,fl_progressive,q_95/v1/img/recipes/27/92/04/picK2Zjmm.jpg\nhttp://tastykitchen.com/recipes/wp-content/uploads/sites/2/2015/10/Italian-Antipasto-Salad-410x273.jpg\nhttp://images.media-allrecipes.com/userphotos/256x256/971024.jpg\nhttp://tastykitchen.com/recipes/wp-content/uploads/sites/2/2009/10/sauce.jpg\nhttp://tastykitchen.com/recipes/wp-content/uploads/sites/2/2012/03/IMG_2505-410x410.jpg\nhttp://assets.kraftfoods.com/recipe_images/opendeploy/130447_MXM_K61906V0_OR1_OH_640x428.jpg\nhttp://tastykitchen.com/recipes/wp-content/uploads/sites/2/2015/10/millet-bourbon-pears-410x274.jpg\nhttp://img.sndimg.com/food/image/upload/w_512,h_512,c_fit,fl_progressive,q_95/v1/img/recipes/24/74/08/picGBPzF7.jpg\nhttp://cdn-image.foodandwine.com/sites/default/files/2014-c-xl-tickled-pink-paloma.jpg\nhttp://img.sndimg.com/food/image/upload/w_512,h_512,c_fit,fl_progressive,q_95/v1/img/recipes/28/57/54/pictq4vjE.jpg\nhttps://img-global.cpcdn.com/001_recipes/5273145412419584/0x0/photo.jpg\nhttp://images.media-allrecipes.com/userphotos/256x256/2428186.jpg\nhttp://images.media-allrecipes.com/userphotos/256x256/2149121.jpg\nhttp://images.media-allrecipes.com/userphotos/256x256/2146469.jpg\nhttp://img.sndimg.com/food/image/upload/w_512,h_512,c_fit,fl_progressive,q_95/v1/img/recipes/29/02/73/picfgFLiV.jpg\nhttp://img.sndimg.com/food/image/upload/w_512,h_512,c_fit,fl_progressive,q_95/v1/img/recipes/70/68/4/picoyx4ED.jpg\nhttp://images.media-allrecipes.com/userphotos/256x256/1102179.jpg\nhttp://tastykitchen.com/recipes/wp-content/uploads/sites/2/2011/06/IMG_06961-410x273.jpg\nhttp://img.sndimg.com/food/image/upload/w_512,h_512,c_fit,fl_progressive,q_95/v1/img/recipes/29/55/40/picRbIn0G.jpg\nhttp://img.sndimg.com/food/image/upload/w_512,h_512,c_fit,fl_progressive,q_95/v1/img/recipes/21/22/42/picEZXBMC.jpg\nhttp://pictures.food.com/api/file/6NZb0fPSO61LesPqRZg2-3c084eef-9b3b-44a8-9f28-7b9335ba05f0_zps52e76450-1/convert?loc=/pictures.food.com/recipes/21/22/42/Z8omzFdUSHCZQeDAW4G1_3c084eef-9b3b-44a8-9f28-7b9335ba05f0_zps52e76450%5B1%5D.jpg&width=512&height=512&fit=max&flags=progressive&quality=95\nhttp://pictures.food.com/api/file/GcLlr7iMSE6JOYhEC2EP-c7949dd6-ccbe-48cc-a44d-7a6e66f1bc8d_zpsa43255f8-1/convert?loc=/pictures.food.com/recipes/21/22/42/W5R0Z6QFTbWWpLuj6W5C_c7949dd6-ccbe-48cc-a44d-7a6e66f1bc8d_zpsa43255f8%5B1%5D.jpg&width=512&height=512&fit=max&flags=progressive&quality=95\nhttps://img-global.cpcdn.com/001_recipes/5193615916138496/0x0/photo.jpg\nhttp://img.sndimg.com/food/image/upload/w_512,h_512,c_fit,fl_progressive,q_95/v1/img/recipes/31/06/93/pickSyIUh.jpg\nhttp://img.sndimg.com/food/image/upload/w_512,h_512,c_fit,fl_progressive,q_95/v1/img/recipes/10/43/93/picHfJbSa.jpg\nhttp://img.sndimg.com/food/image/upload/w_512,h_512,c_fit,fl_progressive,q_95/v1/img/recipes/10/43/93/picedjQQN.jpg\nhttp://img.sndimg.com/food/image/upload/w_512,h_512,c_fit,fl_progressive,q_95/v1/img/recipes/10/43/93/picyG2eQ9.jpg\nhttp://assets.epicurious.com/photos/56043aaf7c9cb37c518d5cf3/master/pass/368284_hires.jpg\nhttps://img-global.cpcdn.com/001_recipes/6708885608988672/0x0/photo.jpg\nhttp://img.sndimg.com/food/image/upload/w_512,h_512,c_fit,fl_progressive,q_95/v1/img/recipes/16/88/6/picg60Ow5.jpg\nhttp://img.sndimg.com/food/image/upload/w_512,h_512,c_fit,fl_progressive,q_95/v1/img/recipes/16/88/6/picUfdR8o.jpg\nhttp://img.sndimg.com/food/image/upload/w_512,h_512,c_fit,fl_progressive,q_95/v1/img/recipes/16/88/6/picXcBCq7.jpg\nhttp://tastykitchen.com/recipes/wp-content/uploads/sites/2/2013/03/lemon-final-410x273.jpg\n"
    }
   ],
   "source": [
    "output = {\"train\":[], \"val\":[], \"test\":[]}\n",
    "\n",
    "for index, row in df2.iterrows():\n",
    "    if index % 100 ==0:\n",
    "        print(index)\n",
    "    recipe_id = row['recipe_id']\n",
    "    images = row['images']\n",
    "    try:\n",
    "        valid = ingr_df[ingr_df['recipe_id']==recipe_id]['valid'].iloc[0]\n",
    "        ingrs = ingr_df[ingr_df['recipe_id']==recipe_id]['ingredients'].iloc[0]\n",
    "    except:\n",
    "        continue\n",
    "    ingrs_list = []\n",
    "    for v, ing in zip(valid, ingrs):\n",
    "        if v:\n",
    "            ingrs_list.append(ing['text'])\n",
    "\n",
    "    parent_dir = df1[df1.recipe_id==recipe_id]['partition'].to_string(index=False)\n",
    "    parent_dir = parent_dir.replace(' ', '')\n",
    "    image_feature_list = []\n",
    "    if len(images)>0:\n",
    "        for image in images:\n",
    "            feat = get_image_feature(image, parent_dir)\n",
    "            image_feature_list.append(feat)\n",
    "    else:\n",
    "        continue\n",
    "\n",
    "    if len(image_feature_list) > 0:\n",
    "        output[parent_dir].append((recipe_id, image_feature_list, ingrs_list))\n",
    "    "
   ]
  },
  {
   "cell_type": "code",
   "execution_count": 91,
   "metadata": {},
   "outputs": [
    {
     "name": "stdout",
     "output_type": "stream",
     "text": "2781 618 572\n"
    }
   ],
   "source": [
    "print(len(output['train']), len(output['val']), len(output['test']))"
   ]
  },
  {
   "cell_type": "code",
   "execution_count": 93,
   "metadata": {},
   "outputs": [],
   "source": [
    "import pickle\n",
    "pickle.dump(output, open(\"extracted_data.pkl\", 'wb'))\n"
   ]
  },
  {
   "cell_type": "code",
   "execution_count": null,
   "metadata": {},
   "outputs": [],
   "source": []
  }
 ],
 "metadata": {
  "kernelspec": {
   "display_name": "Python 3",
   "language": "python",
   "name": "python3"
  },
  "language_info": {
   "codemirror_mode": {
    "name": "ipython",
    "version": 3
   },
   "file_extension": ".py",
   "mimetype": "text/x-python",
   "name": "python",
   "nbconvert_exporter": "python",
   "pygments_lexer": "ipython3",
   "version": "3.7.4"
  }
 },
 "nbformat": 4,
 "nbformat_minor": 2
}